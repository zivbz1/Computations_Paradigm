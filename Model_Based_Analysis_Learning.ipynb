{
 "cells": [
  {
   "cell_type": "markdown",
   "id": "02b9c290",
   "metadata": {},
   "source": [
    "# Model based analysis Reversal learning\n",
    "#### Korem et al., 2023?\n",
    "\n",
    "This notebook loads the reversal task from the aging project and uses variations of the Rescorla Wagner (RW) and Pierce Hall (PH) to try and model the effects of aging on learning from reward feedback. \n",
    "\n",
    "#### Step 1 model behavior\n",
    "\n",
    "We will test the following models: </br>\n",
    "    1. Classical RW </br>\n",
    "    2. Halves -> different learning parameter for the acquisition and reversal phases </br>\n",
    "    3. Valence -> different learning parameter for positive and negative updating </br>\n",
    "    4. decay -> add a decay factor to older data\n",
    "    4. Valence halves -> different learning parameters for the acquisition and reversal phases and for positive and negative updating\n",
    "   \n",
    "#### Step 2 model age\n",
    "\n",
    "Take the best model and check if we add age parameters are they different than 0\n",
    "\n",
    "\n",
    "## Step 0\n",
    "\n",
    "### Load libraries \n"
   ]
  },
  {
   "cell_type": "code",
   "execution_count": 1,
   "id": "7d01bf6d",
   "metadata": {},
   "outputs": [
    {
     "name": "stderr",
     "output_type": "stream",
     "text": [
      "WARNING (theano.tensor.blas): Using NumPy C-API based implementation for BLAS functions.\n"
     ]
    }
   ],
   "source": [
    "%config Completer.use_jedi = False\n",
    "\n",
    "import pandas as pd\n",
    "import numpy as np\n",
    "import scipy, os\n",
    "from glob import glob\n",
    "\n",
    "import matplotlib.pyplot as plt\n",
    "import seaborn as sns\n",
    "\n",
    "import theano\n",
    "import theano.tensor as tt\n",
    "\n",
    "import update_q # this is helper functions I used as a seperate file to make the notebook more readable\n",
    "\n",
    "import pymc as pm\n",
    "import arviz as az"
   ]
  },
  {
   "cell_type": "markdown",
   "id": "9fead99d",
   "metadata": {},
   "source": [
    "### Load the data\n",
    "\n",
    "For the data you need the demographics file, created using a different script and access to the S@Y."
   ]
  },
  {
   "cell_type": "code",
   "execution_count": 2,
   "id": "363db280",
   "metadata": {},
   "outputs": [],
   "source": [
    "data = pd.read_csv(\"C:\\\\Users\\\\zhb4\\\\Box Sync\\\\Neural Computations\\\\Online Pilot\\\\Learning_Data_Organized.csv\")"
   ]
  },
  {
   "cell_type": "code",
   "execution_count": 3,
   "id": "59d39f00",
   "metadata": {},
   "outputs": [
    {
     "data": {
      "text/html": [
       "<div>\n",
       "<style scoped>\n",
       "    .dataframe tbody tr th:only-of-type {\n",
       "        vertical-align: middle;\n",
       "    }\n",
       "\n",
       "    .dataframe tbody tr th {\n",
       "        vertical-align: top;\n",
       "    }\n",
       "\n",
       "    .dataframe thead th {\n",
       "        text-align: right;\n",
       "    }\n",
       "</style>\n",
       "<table border=\"1\" class=\"dataframe\">\n",
       "  <thead>\n",
       "    <tr style=\"text-align: right;\">\n",
       "      <th></th>\n",
       "      <th>sub</th>\n",
       "      <th>cohort</th>\n",
       "      <th>time</th>\n",
       "      <th>trial</th>\n",
       "      <th>trial_type</th>\n",
       "      <th>mean_stim</th>\n",
       "      <th>actual_stim</th>\n",
       "      <th>val</th>\n",
       "      <th>RT_val</th>\n",
       "      <th>conf</th>\n",
       "      <th>RT_conf</th>\n",
       "      <th>rank</th>\n",
       "    </tr>\n",
       "  </thead>\n",
       "  <tbody>\n",
       "    <tr>\n",
       "      <th>30</th>\n",
       "      <td>239</td>\n",
       "      <td>2</td>\n",
       "      <td>1684378824783</td>\n",
       "      <td>3</td>\n",
       "      <td>reward</td>\n",
       "      <td>50</td>\n",
       "      <td>60</td>\n",
       "      <td>30.0</td>\n",
       "      <td>4.170</td>\n",
       "      <td>9.0</td>\n",
       "      <td>1.449</td>\n",
       "      <td>1.0</td>\n",
       "    </tr>\n",
       "    <tr>\n",
       "      <th>31</th>\n",
       "      <td>239</td>\n",
       "      <td>2</td>\n",
       "      <td>1684378835249</td>\n",
       "      <td>4</td>\n",
       "      <td>reward</td>\n",
       "      <td>50</td>\n",
       "      <td>50</td>\n",
       "      <td>60.0</td>\n",
       "      <td>2.143</td>\n",
       "      <td>9.0</td>\n",
       "      <td>1.743</td>\n",
       "      <td>2.0</td>\n",
       "    </tr>\n",
       "    <tr>\n",
       "      <th>32</th>\n",
       "      <td>239</td>\n",
       "      <td>2</td>\n",
       "      <td>1684378880564</td>\n",
       "      <td>10</td>\n",
       "      <td>reward</td>\n",
       "      <td>50</td>\n",
       "      <td>70</td>\n",
       "      <td>70.0</td>\n",
       "      <td>2.172</td>\n",
       "      <td>9.0</td>\n",
       "      <td>1.300</td>\n",
       "      <td>3.0</td>\n",
       "    </tr>\n",
       "    <tr>\n",
       "      <th>33</th>\n",
       "      <td>239</td>\n",
       "      <td>2</td>\n",
       "      <td>1684378932327</td>\n",
       "      <td>16</td>\n",
       "      <td>reward</td>\n",
       "      <td>50</td>\n",
       "      <td>30</td>\n",
       "      <td>60.0</td>\n",
       "      <td>1.642</td>\n",
       "      <td>9.0</td>\n",
       "      <td>1.853</td>\n",
       "      <td>4.0</td>\n",
       "    </tr>\n",
       "    <tr>\n",
       "      <th>34</th>\n",
       "      <td>239</td>\n",
       "      <td>2</td>\n",
       "      <td>1684378990324</td>\n",
       "      <td>23</td>\n",
       "      <td>reward</td>\n",
       "      <td>50</td>\n",
       "      <td>40</td>\n",
       "      <td>60.0</td>\n",
       "      <td>2.569</td>\n",
       "      <td>9.0</td>\n",
       "      <td>1.249</td>\n",
       "      <td>5.0</td>\n",
       "    </tr>\n",
       "  </tbody>\n",
       "</table>\n",
       "</div>"
      ],
      "text/plain": [
       "    sub  cohort           time  trial trial_type  mean_stim  actual_stim  \\\n",
       "30  239       2  1684378824783      3     reward         50           60   \n",
       "31  239       2  1684378835249      4     reward         50           50   \n",
       "32  239       2  1684378880564     10     reward         50           70   \n",
       "33  239       2  1684378932327     16     reward         50           30   \n",
       "34  239       2  1684378990324     23     reward         50           40   \n",
       "\n",
       "     val  RT_val  conf  RT_conf  rank  \n",
       "30  30.0   4.170   9.0    1.449   1.0  \n",
       "31  60.0   2.143   9.0    1.743   2.0  \n",
       "32  70.0   2.172   9.0    1.300   3.0  \n",
       "33  60.0   1.642   9.0    1.853   4.0  \n",
       "34  60.0   2.569   9.0    1.249   5.0  "
      ]
     },
     "execution_count": 3,
     "metadata": {},
     "output_type": "execute_result"
    }
   ],
   "source": [
    "data = data[data['sub']>150]\n",
    "data.head()"
   ]
  },
  {
   "cell_type": "markdown",
   "id": "9cca47cc",
   "metadata": {},
   "source": [
    "### Data preparation\n",
    "\n",
    "extract number of subjects and indexes for modeling "
   ]
  },
  {
   "cell_type": "code",
   "execution_count": 4,
   "id": "1d3de48b",
   "metadata": {},
   "outputs": [
    {
     "data": {
      "text/plain": [
       "20"
      ]
     },
     "execution_count": 4,
     "metadata": {},
     "output_type": "execute_result"
    }
   ],
   "source": [
    "n_subj   = len(data['sub'].unique())\n",
    "n_trials = 66 # int(max(data['rank'].values)) # all have 70 trials\n",
    "\n",
    "n_subj"
   ]
  },
  {
   "cell_type": "code",
   "execution_count": 5,
   "id": "a39c557d",
   "metadata": {},
   "outputs": [],
   "source": [
    "trials, subj = np.meshgrid(list(range(n_trials)), range(n_subj))\n",
    "# trial = (trials<35)*1 # for modeling alpha for ACQ and reversal phases\n",
    "trials = tt.as_tensor_variable(trials.T)\n",
    "# trial = tt.as_tensor_variable(trial.T)\n",
    "subj   = tt.as_tensor_variable(subj.T)"
   ]
  },
  {
   "cell_type": "code",
   "execution_count": 25,
   "id": "7638af0b",
   "metadata": {},
   "outputs": [],
   "source": [
    "stim   = np.reshape([data['trial_type']],   (n_subj, n_trials)).T # tilt of the X (0 or 45)\n",
    "reward = np.reshape([data['actual_stim']], (n_subj, n_trials)).T # was there a reward (0 or 6)\n",
    "rating = np.reshape([data['val']],    (n_subj, n_trials)).T # response 1-9\n",
    "rating = [np.nan if 0 else (x+100)/200 for x in rating]"
   ]
  },
  {
   "cell_type": "code",
   "execution_count": 26,
   "id": "65f7781d",
   "metadata": {},
   "outputs": [],
   "source": [
    "stim   = np.array(stim=='reward',  dtype='int')\n",
    "reward = np.array((reward+100)/200)\n",
    "\n",
    "stim = tt.as_tensor_variable(stim)\n",
    "reward = tt.as_tensor_variable(reward)"
   ]
  },
  {
   "cell_type": "code",
   "execution_count": 21,
   "id": "fcc3f9e7",
   "metadata": {},
   "outputs": [
    {
     "data": {
      "text/plain": [
       "TensorConstant{[[0.8  0.8...05 0.1 ]]}"
      ]
     },
     "execution_count": 21,
     "metadata": {},
     "output_type": "execute_result"
    }
   ],
   "source": [
    "reward"
   ]
  },
  {
   "cell_type": "markdown",
   "id": "492b43aa",
   "metadata": {},
   "source": [
    "### Tuning parameters"
   ]
  },
  {
   "cell_type": "code",
   "execution_count": 9,
   "id": "2e470062",
   "metadata": {},
   "outputs": [],
   "source": [
    "tune = 2000 # 2000\n",
    "draws = 2000\n",
    "target_accept = .95 #.99"
   ]
  },
  {
   "cell_type": "markdown",
   "id": "8f4004cb",
   "metadata": {},
   "source": [
    "## Step 1: Modeling behavior\n",
    "\n",
    "### Model 1: Classical Rescorla Wagner"
   ]
  },
  {
   "cell_type": "code",
   "execution_count": 27,
   "id": "75177fdc",
   "metadata": {},
   "outputs": [
    {
     "ename": "AsTensorError",
     "evalue": "('Cannot convert alpha to TensorType', <class 'pytensor.tensor.var.TensorVariable'>)",
     "output_type": "error",
     "traceback": [
      "\u001b[1;31m---------------------------------------------------------------------------\u001b[0m",
      "\u001b[1;31mKeyError\u001b[0m                                  Traceback (most recent call last)",
      "File \u001b[1;32m~\\Anaconda3\\envs\\Paradigm_Pilot\\lib\\site-packages\\theano\\tensor\\type.py:254\u001b[0m, in \u001b[0;36mTensorType.dtype_specs\u001b[1;34m(self)\u001b[0m\n\u001b[0;32m    253\u001b[0m \u001b[38;5;28;01mtry\u001b[39;00m:\n\u001b[1;32m--> 254\u001b[0m     \u001b[38;5;28;01mreturn\u001b[39;00m \u001b[43m{\u001b[49m\n\u001b[0;32m    255\u001b[0m \u001b[43m        \u001b[49m\u001b[38;5;124;43m'\u001b[39;49m\u001b[38;5;124;43mfloat16\u001b[39;49m\u001b[38;5;124;43m'\u001b[39;49m\u001b[43m:\u001b[49m\u001b[43m \u001b[49m\u001b[43m(\u001b[49m\u001b[38;5;28;43mfloat\u001b[39;49m\u001b[43m,\u001b[49m\u001b[43m \u001b[49m\u001b[38;5;124;43m'\u001b[39;49m\u001b[38;5;124;43mnpy_float16\u001b[39;49m\u001b[38;5;124;43m'\u001b[39;49m\u001b[43m,\u001b[49m\u001b[43m \u001b[49m\u001b[38;5;124;43m'\u001b[39;49m\u001b[38;5;124;43mNPY_FLOAT16\u001b[39;49m\u001b[38;5;124;43m'\u001b[39;49m\u001b[43m)\u001b[49m\u001b[43m,\u001b[49m\n\u001b[0;32m    256\u001b[0m \u001b[43m        \u001b[49m\u001b[38;5;124;43m'\u001b[39;49m\u001b[38;5;124;43mfloat32\u001b[39;49m\u001b[38;5;124;43m'\u001b[39;49m\u001b[43m:\u001b[49m\u001b[43m \u001b[49m\u001b[43m(\u001b[49m\u001b[38;5;28;43mfloat\u001b[39;49m\u001b[43m,\u001b[49m\u001b[43m \u001b[49m\u001b[38;5;124;43m'\u001b[39;49m\u001b[38;5;124;43mnpy_float32\u001b[39;49m\u001b[38;5;124;43m'\u001b[39;49m\u001b[43m,\u001b[49m\u001b[43m \u001b[49m\u001b[38;5;124;43m'\u001b[39;49m\u001b[38;5;124;43mNPY_FLOAT32\u001b[39;49m\u001b[38;5;124;43m'\u001b[39;49m\u001b[43m)\u001b[49m\u001b[43m,\u001b[49m\n\u001b[0;32m    257\u001b[0m \u001b[43m        \u001b[49m\u001b[38;5;124;43m'\u001b[39;49m\u001b[38;5;124;43mfloat64\u001b[39;49m\u001b[38;5;124;43m'\u001b[39;49m\u001b[43m:\u001b[49m\u001b[43m \u001b[49m\u001b[43m(\u001b[49m\u001b[38;5;28;43mfloat\u001b[39;49m\u001b[43m,\u001b[49m\u001b[43m \u001b[49m\u001b[38;5;124;43m'\u001b[39;49m\u001b[38;5;124;43mnpy_float64\u001b[39;49m\u001b[38;5;124;43m'\u001b[39;49m\u001b[43m,\u001b[49m\u001b[43m \u001b[49m\u001b[38;5;124;43m'\u001b[39;49m\u001b[38;5;124;43mNPY_FLOAT64\u001b[39;49m\u001b[38;5;124;43m'\u001b[39;49m\u001b[43m)\u001b[49m\u001b[43m,\u001b[49m\n\u001b[0;32m    258\u001b[0m \u001b[43m        \u001b[49m\u001b[38;5;124;43m'\u001b[39;49m\u001b[38;5;124;43mbool\u001b[39;49m\u001b[38;5;124;43m'\u001b[39;49m\u001b[43m:\u001b[49m\u001b[43m \u001b[49m\u001b[43m(\u001b[49m\u001b[38;5;28;43mbool\u001b[39;49m\u001b[43m,\u001b[49m\u001b[43m \u001b[49m\u001b[38;5;124;43m'\u001b[39;49m\u001b[38;5;124;43mnpy_bool\u001b[39;49m\u001b[38;5;124;43m'\u001b[39;49m\u001b[43m,\u001b[49m\u001b[43m \u001b[49m\u001b[38;5;124;43m'\u001b[39;49m\u001b[38;5;124;43mNPY_BOOL\u001b[39;49m\u001b[38;5;124;43m'\u001b[39;49m\u001b[43m)\u001b[49m\u001b[43m,\u001b[49m\n\u001b[0;32m    259\u001b[0m \u001b[43m        \u001b[49m\u001b[38;5;124;43m'\u001b[39;49m\u001b[38;5;124;43muint8\u001b[39;49m\u001b[38;5;124;43m'\u001b[39;49m\u001b[43m:\u001b[49m\u001b[43m \u001b[49m\u001b[43m(\u001b[49m\u001b[38;5;28;43mint\u001b[39;49m\u001b[43m,\u001b[49m\u001b[43m \u001b[49m\u001b[38;5;124;43m'\u001b[39;49m\u001b[38;5;124;43mnpy_uint8\u001b[39;49m\u001b[38;5;124;43m'\u001b[39;49m\u001b[43m,\u001b[49m\u001b[43m \u001b[49m\u001b[38;5;124;43m'\u001b[39;49m\u001b[38;5;124;43mNPY_UINT8\u001b[39;49m\u001b[38;5;124;43m'\u001b[39;49m\u001b[43m)\u001b[49m\u001b[43m,\u001b[49m\n\u001b[0;32m    260\u001b[0m \u001b[43m        \u001b[49m\u001b[38;5;124;43m'\u001b[39;49m\u001b[38;5;124;43mint8\u001b[39;49m\u001b[38;5;124;43m'\u001b[39;49m\u001b[43m:\u001b[49m\u001b[43m \u001b[49m\u001b[43m(\u001b[49m\u001b[38;5;28;43mint\u001b[39;49m\u001b[43m,\u001b[49m\u001b[43m \u001b[49m\u001b[38;5;124;43m'\u001b[39;49m\u001b[38;5;124;43mnpy_int8\u001b[39;49m\u001b[38;5;124;43m'\u001b[39;49m\u001b[43m,\u001b[49m\u001b[43m \u001b[49m\u001b[38;5;124;43m'\u001b[39;49m\u001b[38;5;124;43mNPY_INT8\u001b[39;49m\u001b[38;5;124;43m'\u001b[39;49m\u001b[43m)\u001b[49m\u001b[43m,\u001b[49m\n\u001b[0;32m    261\u001b[0m \u001b[43m        \u001b[49m\u001b[38;5;124;43m'\u001b[39;49m\u001b[38;5;124;43muint16\u001b[39;49m\u001b[38;5;124;43m'\u001b[39;49m\u001b[43m:\u001b[49m\u001b[43m \u001b[49m\u001b[43m(\u001b[49m\u001b[38;5;28;43mint\u001b[39;49m\u001b[43m,\u001b[49m\u001b[43m \u001b[49m\u001b[38;5;124;43m'\u001b[39;49m\u001b[38;5;124;43mnpy_uint16\u001b[39;49m\u001b[38;5;124;43m'\u001b[39;49m\u001b[43m,\u001b[49m\u001b[43m \u001b[49m\u001b[38;5;124;43m'\u001b[39;49m\u001b[38;5;124;43mNPY_UINT16\u001b[39;49m\u001b[38;5;124;43m'\u001b[39;49m\u001b[43m)\u001b[49m\u001b[43m,\u001b[49m\n\u001b[0;32m    262\u001b[0m \u001b[43m        \u001b[49m\u001b[38;5;124;43m'\u001b[39;49m\u001b[38;5;124;43mint16\u001b[39;49m\u001b[38;5;124;43m'\u001b[39;49m\u001b[43m:\u001b[49m\u001b[43m \u001b[49m\u001b[43m(\u001b[49m\u001b[38;5;28;43mint\u001b[39;49m\u001b[43m,\u001b[49m\u001b[43m \u001b[49m\u001b[38;5;124;43m'\u001b[39;49m\u001b[38;5;124;43mnpy_int16\u001b[39;49m\u001b[38;5;124;43m'\u001b[39;49m\u001b[43m,\u001b[49m\u001b[43m \u001b[49m\u001b[38;5;124;43m'\u001b[39;49m\u001b[38;5;124;43mNPY_INT16\u001b[39;49m\u001b[38;5;124;43m'\u001b[39;49m\u001b[43m)\u001b[49m\u001b[43m,\u001b[49m\n\u001b[0;32m    263\u001b[0m \u001b[43m        \u001b[49m\u001b[38;5;124;43m'\u001b[39;49m\u001b[38;5;124;43muint32\u001b[39;49m\u001b[38;5;124;43m'\u001b[39;49m\u001b[43m:\u001b[49m\u001b[43m \u001b[49m\u001b[43m(\u001b[49m\u001b[38;5;28;43mint\u001b[39;49m\u001b[43m,\u001b[49m\u001b[43m \u001b[49m\u001b[38;5;124;43m'\u001b[39;49m\u001b[38;5;124;43mnpy_uint32\u001b[39;49m\u001b[38;5;124;43m'\u001b[39;49m\u001b[43m,\u001b[49m\u001b[43m \u001b[49m\u001b[38;5;124;43m'\u001b[39;49m\u001b[38;5;124;43mNPY_UINT32\u001b[39;49m\u001b[38;5;124;43m'\u001b[39;49m\u001b[43m)\u001b[49m\u001b[43m,\u001b[49m\n\u001b[0;32m    264\u001b[0m \u001b[43m        \u001b[49m\u001b[38;5;124;43m'\u001b[39;49m\u001b[38;5;124;43mint32\u001b[39;49m\u001b[38;5;124;43m'\u001b[39;49m\u001b[43m:\u001b[49m\u001b[43m \u001b[49m\u001b[43m(\u001b[49m\u001b[38;5;28;43mint\u001b[39;49m\u001b[43m,\u001b[49m\u001b[43m \u001b[49m\u001b[38;5;124;43m'\u001b[39;49m\u001b[38;5;124;43mnpy_int32\u001b[39;49m\u001b[38;5;124;43m'\u001b[39;49m\u001b[43m,\u001b[49m\u001b[43m \u001b[49m\u001b[38;5;124;43m'\u001b[39;49m\u001b[38;5;124;43mNPY_INT32\u001b[39;49m\u001b[38;5;124;43m'\u001b[39;49m\u001b[43m)\u001b[49m\u001b[43m,\u001b[49m\n\u001b[0;32m    265\u001b[0m \u001b[43m        \u001b[49m\u001b[38;5;124;43m'\u001b[39;49m\u001b[38;5;124;43muint64\u001b[39;49m\u001b[38;5;124;43m'\u001b[39;49m\u001b[43m:\u001b[49m\u001b[43m \u001b[49m\u001b[43m(\u001b[49m\u001b[38;5;28;43mint\u001b[39;49m\u001b[43m,\u001b[49m\u001b[43m \u001b[49m\u001b[38;5;124;43m'\u001b[39;49m\u001b[38;5;124;43mnpy_uint64\u001b[39;49m\u001b[38;5;124;43m'\u001b[39;49m\u001b[43m,\u001b[49m\u001b[43m \u001b[49m\u001b[38;5;124;43m'\u001b[39;49m\u001b[38;5;124;43mNPY_UINT64\u001b[39;49m\u001b[38;5;124;43m'\u001b[39;49m\u001b[43m)\u001b[49m\u001b[43m,\u001b[49m\n\u001b[0;32m    266\u001b[0m \u001b[43m        \u001b[49m\u001b[38;5;124;43m'\u001b[39;49m\u001b[38;5;124;43mint64\u001b[39;49m\u001b[38;5;124;43m'\u001b[39;49m\u001b[43m:\u001b[49m\u001b[43m \u001b[49m\u001b[43m(\u001b[49m\u001b[38;5;28;43mint\u001b[39;49m\u001b[43m,\u001b[49m\u001b[43m \u001b[49m\u001b[38;5;124;43m'\u001b[39;49m\u001b[38;5;124;43mnpy_int64\u001b[39;49m\u001b[38;5;124;43m'\u001b[39;49m\u001b[43m,\u001b[49m\u001b[43m \u001b[49m\u001b[38;5;124;43m'\u001b[39;49m\u001b[38;5;124;43mNPY_INT64\u001b[39;49m\u001b[38;5;124;43m'\u001b[39;49m\u001b[43m)\u001b[49m\u001b[43m,\u001b[49m\n\u001b[0;32m    267\u001b[0m \u001b[43m        \u001b[49m\u001b[38;5;124;43m'\u001b[39;49m\u001b[38;5;124;43mcomplex128\u001b[39;49m\u001b[38;5;124;43m'\u001b[39;49m\u001b[43m:\u001b[49m\u001b[43m \u001b[49m\u001b[43m(\u001b[49m\u001b[38;5;28;43mcomplex\u001b[39;49m\u001b[43m,\u001b[49m\u001b[43m \u001b[49m\u001b[38;5;124;43m'\u001b[39;49m\u001b[38;5;124;43mtheano_complex128\u001b[39;49m\u001b[38;5;124;43m'\u001b[39;49m\u001b[43m,\u001b[49m\u001b[43m \u001b[49m\u001b[38;5;124;43m'\u001b[39;49m\u001b[38;5;124;43mNPY_COMPLEX128\u001b[39;49m\u001b[38;5;124;43m'\u001b[39;49m\u001b[43m)\u001b[49m\u001b[43m,\u001b[49m\n\u001b[0;32m    268\u001b[0m \u001b[43m        \u001b[49m\u001b[38;5;124;43m'\u001b[39;49m\u001b[38;5;124;43mcomplex64\u001b[39;49m\u001b[38;5;124;43m'\u001b[39;49m\u001b[43m:\u001b[49m\u001b[43m \u001b[49m\u001b[43m(\u001b[49m\u001b[38;5;28;43mcomplex\u001b[39;49m\u001b[43m,\u001b[49m\u001b[43m \u001b[49m\u001b[38;5;124;43m'\u001b[39;49m\u001b[38;5;124;43mtheano_complex64\u001b[39;49m\u001b[38;5;124;43m'\u001b[39;49m\u001b[43m,\u001b[49m\u001b[43m \u001b[49m\u001b[38;5;124;43m'\u001b[39;49m\u001b[38;5;124;43mNPY_COMPLEX64\u001b[39;49m\u001b[38;5;124;43m'\u001b[39;49m\u001b[43m)\u001b[49m\n\u001b[0;32m    269\u001b[0m \u001b[43m    \u001b[49m\u001b[43m}\u001b[49m\u001b[43m[\u001b[49m\u001b[38;5;28;43mself\u001b[39;49m\u001b[38;5;241;43m.\u001b[39;49m\u001b[43mdtype\u001b[49m\u001b[43m]\u001b[49m\n\u001b[0;32m    270\u001b[0m \u001b[38;5;28;01mexcept\u001b[39;00m \u001b[38;5;167;01mKeyError\u001b[39;00m:\n",
      "\u001b[1;31mKeyError\u001b[0m: 'object'",
      "\nDuring handling of the above exception, another exception occurred:\n",
      "\u001b[1;31mTypeError\u001b[0m                                 Traceback (most recent call last)",
      "File \u001b[1;32m~\\Anaconda3\\envs\\Paradigm_Pilot\\lib\\site-packages\\theano\\tensor\\basic.py:246\u001b[0m, in \u001b[0;36mconstant\u001b[1;34m(x, name, ndim, dtype)\u001b[0m\n\u001b[0;32m    245\u001b[0m \u001b[38;5;28;01mtry\u001b[39;00m:\n\u001b[1;32m--> 246\u001b[0m     ttype \u001b[38;5;241m=\u001b[39m \u001b[43mTensorType\u001b[49m\u001b[43m(\u001b[49m\u001b[43mdtype\u001b[49m\u001b[38;5;241;43m=\u001b[39;49m\u001b[43mx_\u001b[49m\u001b[38;5;241;43m.\u001b[39;49m\u001b[43mdtype\u001b[49m\u001b[43m,\u001b[49m\u001b[43m \u001b[49m\u001b[43mbroadcastable\u001b[49m\u001b[38;5;241;43m=\u001b[39;49m\u001b[43mbcastable\u001b[49m\u001b[43m)\u001b[49m\n\u001b[0;32m    247\u001b[0m     \u001b[38;5;28;01mif\u001b[39;00m \u001b[38;5;129;01mnot\u001b[39;00m constant\u001b[38;5;241m.\u001b[39menable:\n",
      "File \u001b[1;32m~\\Anaconda3\\envs\\Paradigm_Pilot\\lib\\site-packages\\theano\\tensor\\type.py:51\u001b[0m, in \u001b[0;36mTensorType.__init__\u001b[1;34m(self, dtype, broadcastable, name, sparse_grad)\u001b[0m\n\u001b[0;32m     50\u001b[0m \u001b[38;5;28mself\u001b[39m\u001b[38;5;241m.\u001b[39mbroadcastable \u001b[38;5;241m=\u001b[39m \u001b[38;5;28mtuple\u001b[39m(\u001b[38;5;28mbool\u001b[39m(b) \u001b[38;5;28;01mfor\u001b[39;00m b \u001b[38;5;129;01min\u001b[39;00m broadcastable)\n\u001b[1;32m---> 51\u001b[0m \u001b[38;5;28;43mself\u001b[39;49m\u001b[38;5;241;43m.\u001b[39;49m\u001b[43mdtype_specs\u001b[49m\u001b[43m(\u001b[49m\u001b[43m)\u001b[49m  \u001b[38;5;66;03m# error checking is done there\u001b[39;00m\n\u001b[0;32m     52\u001b[0m \u001b[38;5;28mself\u001b[39m\u001b[38;5;241m.\u001b[39mname \u001b[38;5;241m=\u001b[39m name\n",
      "File \u001b[1;32m~\\Anaconda3\\envs\\Paradigm_Pilot\\lib\\site-packages\\theano\\tensor\\type.py:271\u001b[0m, in \u001b[0;36mTensorType.dtype_specs\u001b[1;34m(self)\u001b[0m\n\u001b[0;32m    270\u001b[0m \u001b[38;5;28;01mexcept\u001b[39;00m \u001b[38;5;167;01mKeyError\u001b[39;00m:\n\u001b[1;32m--> 271\u001b[0m     \u001b[38;5;28;01mraise\u001b[39;00m \u001b[38;5;167;01mTypeError\u001b[39;00m(\u001b[38;5;124m\"\u001b[39m\u001b[38;5;124mUnsupported dtype for \u001b[39m\u001b[38;5;132;01m%s\u001b[39;00m\u001b[38;5;124m: \u001b[39m\u001b[38;5;132;01m%s\u001b[39;00m\u001b[38;5;124m\"\u001b[39m\n\u001b[0;32m    272\u001b[0m                     \u001b[38;5;241m%\u001b[39m (\u001b[38;5;28mself\u001b[39m\u001b[38;5;241m.\u001b[39m\u001b[38;5;18m__class__\u001b[39m\u001b[38;5;241m.\u001b[39m\u001b[38;5;18m__name__\u001b[39m, \u001b[38;5;28mself\u001b[39m\u001b[38;5;241m.\u001b[39mdtype))\n",
      "\u001b[1;31mTypeError\u001b[0m: Unsupported dtype for TensorType: object",
      "\nDuring handling of the above exception, another exception occurred:\n",
      "\u001b[1;31mTypeError\u001b[0m                                 Traceback (most recent call last)",
      "File \u001b[1;32m~\\Anaconda3\\envs\\Paradigm_Pilot\\lib\\site-packages\\theano\\tensor\\basic.py:194\u001b[0m, in \u001b[0;36mas_tensor_variable\u001b[1;34m(x, name, ndim)\u001b[0m\n\u001b[0;32m    193\u001b[0m \u001b[38;5;28;01mtry\u001b[39;00m:\n\u001b[1;32m--> 194\u001b[0m     \u001b[38;5;28;01mreturn\u001b[39;00m \u001b[43mconstant\u001b[49m\u001b[43m(\u001b[49m\u001b[43mx\u001b[49m\u001b[43m,\u001b[49m\u001b[43m \u001b[49m\u001b[43mname\u001b[49m\u001b[38;5;241;43m=\u001b[39;49m\u001b[43mname\u001b[49m\u001b[43m,\u001b[49m\u001b[43m \u001b[49m\u001b[43mndim\u001b[49m\u001b[38;5;241;43m=\u001b[39;49m\u001b[43mndim\u001b[49m\u001b[43m)\u001b[49m\n\u001b[0;32m    195\u001b[0m \u001b[38;5;28;01mexcept\u001b[39;00m \u001b[38;5;167;01mTypeError\u001b[39;00m:\n",
      "File \u001b[1;32m~\\Anaconda3\\envs\\Paradigm_Pilot\\lib\\site-packages\\theano\\tensor\\basic.py:266\u001b[0m, in \u001b[0;36mconstant\u001b[1;34m(x, name, ndim, dtype)\u001b[0m\n\u001b[0;32m    265\u001b[0m \u001b[38;5;28;01mexcept\u001b[39;00m \u001b[38;5;167;01mException\u001b[39;00m:\n\u001b[1;32m--> 266\u001b[0m     \u001b[38;5;28;01mraise\u001b[39;00m \u001b[38;5;167;01mTypeError\u001b[39;00m(\u001b[38;5;124m\"\u001b[39m\u001b[38;5;124mCould not convert \u001b[39m\u001b[38;5;132;01m%s\u001b[39;00m\u001b[38;5;124m to TensorType\u001b[39m\u001b[38;5;124m\"\u001b[39m \u001b[38;5;241m%\u001b[39m x, \u001b[38;5;28mtype\u001b[39m(x))\n",
      "\u001b[1;31mTypeError\u001b[0m: ('Could not convert alpha to TensorType', <class 'pytensor.tensor.var.TensorVariable'>)",
      "\nDuring handling of the above exception, another exception occurred:\n",
      "\u001b[1;31mAsTensorError\u001b[0m                             Traceback (most recent call last)",
      "Input \u001b[1;32mIn [27]\u001b[0m, in \u001b[0;36m<cell line: 1>\u001b[1;34m()\u001b[0m\n\u001b[0;32m     19\u001b[0m Qs  \u001b[38;5;241m=\u001b[39m \u001b[38;5;241m.5\u001b[39m \u001b[38;5;241m*\u001b[39m tt\u001b[38;5;241m.\u001b[39mones((n_subj,\u001b[38;5;241m2\u001b[39m), dtype\u001b[38;5;241m=\u001b[39m\u001b[38;5;124m'\u001b[39m\u001b[38;5;124mfloat64\u001b[39m\u001b[38;5;124m'\u001b[39m) \u001b[38;5;66;03m# set values for boths stimuli (CS+, CS-)\u001b[39;00m\n\u001b[0;32m     20\u001b[0m vec \u001b[38;5;241m=\u001b[39m \u001b[38;5;241m.5\u001b[39m \u001b[38;5;241m*\u001b[39m tt\u001b[38;5;241m.\u001b[39mones((n_subj,\u001b[38;5;241m1\u001b[39m), dtype\u001b[38;5;241m=\u001b[39m\u001b[38;5;124m'\u001b[39m\u001b[38;5;124mfloat64\u001b[39m\u001b[38;5;124m'\u001b[39m) \u001b[38;5;66;03m# vector to save the relevant stimulus's expactation\u001b[39;00m\n\u001b[1;32m---> 22\u001b[0m [Qs,vec], updates \u001b[38;5;241m=\u001b[39m \u001b[43mtheano\u001b[49m\u001b[38;5;241;43m.\u001b[39;49m\u001b[43mscan\u001b[49m\u001b[43m(\u001b[49m\n\u001b[0;32m     23\u001b[0m \u001b[43m    \u001b[49m\u001b[43mfn\u001b[49m\u001b[43m            \u001b[49m\u001b[38;5;241;43m=\u001b[39;49m\u001b[43m \u001b[49m\u001b[43mupdate_q\u001b[49m\u001b[38;5;241;43m.\u001b[39;49m\u001b[43mupdate_Q\u001b[49m\u001b[43m,\u001b[49m\n\u001b[0;32m     24\u001b[0m \u001b[43m    \u001b[49m\u001b[43msequences\u001b[49m\u001b[43m     \u001b[49m\u001b[38;5;241;43m=\u001b[39;49m\u001b[43m \u001b[49m\u001b[43m[\u001b[49m\u001b[43mstim\u001b[49m\u001b[43m,\u001b[49m\u001b[43m \u001b[49m\u001b[43mreward\u001b[49m\u001b[43m]\u001b[49m\u001b[43m,\u001b[49m\n\u001b[0;32m     25\u001b[0m \u001b[43m    \u001b[49m\u001b[43moutputs_info\u001b[49m\u001b[43m  \u001b[49m\u001b[38;5;241;43m=\u001b[39;49m\u001b[43m \u001b[49m\u001b[43m[\u001b[49m\u001b[43mQs\u001b[49m\u001b[43m,\u001b[49m\u001b[43m \u001b[49m\u001b[43mvec\u001b[49m\u001b[43m]\u001b[49m\u001b[43m,\u001b[49m\n\u001b[0;32m     26\u001b[0m \u001b[43m    \u001b[49m\u001b[43mnon_sequences\u001b[49m\u001b[43m \u001b[49m\u001b[38;5;241;43m=\u001b[39;49m\u001b[43m \u001b[49m\u001b[43m[\u001b[49m\u001b[43malpha\u001b[49m\u001b[43m,\u001b[49m\u001b[43m \u001b[49m\u001b[43mn_subj\u001b[49m\u001b[43m]\u001b[49m\u001b[43m)\u001b[49m\n\u001b[0;32m     29\u001b[0m vec_ \u001b[38;5;241m=\u001b[39m vec[trials,subj,\u001b[38;5;241m0\u001b[39m] \u001b[38;5;241m*\u001b[39m beta[subj] \u001b[38;5;241m+\u001b[39m intercept[subj]\n\u001b[0;32m     31\u001b[0m learn \u001b[38;5;241m=\u001b[39m pm\u001b[38;5;241m.\u001b[39mNormal(\u001b[38;5;124m'\u001b[39m\u001b[38;5;124mlearn\u001b[39m\u001b[38;5;124m'\u001b[39m, vec_, eps, observed\u001b[38;5;241m=\u001b[39mrating) \n",
      "File \u001b[1;32m~\\Anaconda3\\envs\\Paradigm_Pilot\\lib\\site-packages\\theano\\scan_module\\scan.py:382\u001b[0m, in \u001b[0;36mscan\u001b[1;34m(fn, sequences, outputs_info, non_sequences, n_steps, truncate_gradient, go_backwards, mode, name, profile, allow_gc, strict, return_list)\u001b[0m\n\u001b[0;32m    380\u001b[0m \u001b[38;5;28;01mfor\u001b[39;00m elem \u001b[38;5;129;01min\u001b[39;00m wrap_into_list(non_sequences):\n\u001b[0;32m    381\u001b[0m     \u001b[38;5;28;01mif\u001b[39;00m \u001b[38;5;129;01mnot\u001b[39;00m \u001b[38;5;28misinstance\u001b[39m(elem, gof\u001b[38;5;241m.\u001b[39mVariable):\n\u001b[1;32m--> 382\u001b[0m         non_seqs\u001b[38;5;241m.\u001b[39mappend(\u001b[43mtensor\u001b[49m\u001b[38;5;241;43m.\u001b[39;49m\u001b[43mas_tensor_variable\u001b[49m\u001b[43m(\u001b[49m\u001b[43melem\u001b[49m\u001b[43m)\u001b[49m)\n\u001b[0;32m    383\u001b[0m     \u001b[38;5;28;01melse\u001b[39;00m:\n\u001b[0;32m    384\u001b[0m         non_seqs\u001b[38;5;241m.\u001b[39mappend(elem)\n",
      "File \u001b[1;32m~\\Anaconda3\\envs\\Paradigm_Pilot\\lib\\site-packages\\theano\\tensor\\basic.py:200\u001b[0m, in \u001b[0;36mas_tensor_variable\u001b[1;34m(x, name, ndim)\u001b[0m\n\u001b[0;32m    198\u001b[0m \u001b[38;5;28;01mexcept\u001b[39;00m \u001b[38;5;167;01mException\u001b[39;00m:\n\u001b[0;32m    199\u001b[0m     str_x \u001b[38;5;241m=\u001b[39m \u001b[38;5;28mrepr\u001b[39m(x)\n\u001b[1;32m--> 200\u001b[0m \u001b[38;5;28;01mraise\u001b[39;00m AsTensorError(\u001b[38;5;124m\"\u001b[39m\u001b[38;5;124mCannot convert \u001b[39m\u001b[38;5;132;01m%s\u001b[39;00m\u001b[38;5;124m to TensorType\u001b[39m\u001b[38;5;124m\"\u001b[39m \u001b[38;5;241m%\u001b[39m str_x, \u001b[38;5;28mtype\u001b[39m(x))\n",
      "\u001b[1;31mAsTensorError\u001b[0m: ('Cannot convert alpha to TensorType', <class 'pytensor.tensor.var.TensorVariable'>)"
     ]
    }
   ],
   "source": [
    "with pm.Model() as model_RW:\n",
    "    \n",
    "    mu = pm.Normal('mu', 0, 1)\n",
    "    sd = pm.HalfNormal('sd',2) \n",
    "    intercept = pm.Normal('intercept', mu, sd, shape=n_subj)\n",
    "    \n",
    "    beta_h  = pm.Normal('beta_h', 0,1)\n",
    "    beta_sd = pm.HalfNormal('beta_sd', 1)\n",
    "    beta    = pm.Normal('beta',beta_h, beta_sd, shape=n_subj)\n",
    "    \n",
    "    eps = pm.HalfNormal('eps', 5)\n",
    "    \n",
    "    a_a = pm.TruncatedNormal('a_a', 3, 2, lower=1)\n",
    "    a_b = pm.TruncatedNormal('a_b', 7, 2, lower=1)\n",
    "\n",
    "    alpha = pm.Beta('alpha', a_a, a_b, shape=n_subj)\n",
    "    \n",
    "    \n",
    "    Qs  = .5 * tt.ones((n_subj,2), dtype='float64') # set values for boths stimuli (CS+, CS-)\n",
    "    vec = .5 * tt.ones((n_subj,1), dtype='float64') # vector to save the relevant stimulus's expactation\n",
    "    \n",
    "    [Qs,vec], updates = theano.scan(\n",
    "        fn            = update_q.update_Q,\n",
    "        sequences     = [stim, reward],\n",
    "        outputs_info  = [Qs, vec],\n",
    "        non_sequences = [alpha, n_subj])\n",
    "   \n",
    "    \n",
    "    vec_ = vec[trials,subj,0] * beta[subj] + intercept[subj]\n",
    "    \n",
    "    learn = pm.Normal('learn', vec_, eps, observed=rating) \n",
    "    \n",
    "    # add matrix of expected values (trials X subjects)\n",
    "    ev = pm.Deterministic('expected_value', vec_)\n",
    "    \n",
    "    trace_RW = pm.sample(tune                 = tune, \n",
    "                         draws                = draws, \n",
    "                         return_inferencedata = True, \n",
    "                         target_accept        = target_accept)"
   ]
  },
  {
   "cell_type": "markdown",
   "id": "9130c348",
   "metadata": {},
   "source": [
    "### Model 2:  Rescorla Wagner with separate learning rate for negative and positive updating\n",
    "\n",
    "Hopkins, A. K., Dolan, R., Button, K. S., & Moutoussis, M. (2021). A reduced self-positive belief underpins greater sensitivity to negative evaluation in socially anxious individuals. Computational psychiatry (Cambridge, Mass.), 5(1), 21."
   ]
  },
  {
   "cell_type": "code",
   "execution_count": 8,
   "id": "ca7dbbe4",
   "metadata": {},
   "outputs": [
    {
     "name": "stderr",
     "output_type": "stream",
     "text": [
      "Auto-assigning NUTS sampler...\n",
      "Initializing NUTS using jitter+adapt_diag...\n",
      "Multiprocess sampling (4 chains in 4 jobs)\n",
      "NUTS: [alpha_n, alpha_p, an_b, an_a, ap_b, ap_a, eps, beta, beta_sd, beta_h, intercept, sd, mu]\n"
     ]
    },
    {
     "data": {
      "text/html": [
       "\n",
       "    <div>\n",
       "        <style>\n",
       "            /* Turns off some styling */\n",
       "            progress {\n",
       "                /* gets rid of default border in Firefox and Opera. */\n",
       "                border: none;\n",
       "                /* Needs to be in here for Safari polyfill so background images work as expected. */\n",
       "                background-size: auto;\n",
       "            }\n",
       "            .progress-bar-interrupted, .progress-bar-interrupted::-webkit-progress-bar {\n",
       "                background: #F44336;\n",
       "            }\n",
       "        </style>\n",
       "      <progress value='16000' class='' max='16000' style='width:300px; height:20px; vertical-align: middle;'></progress>\n",
       "      100.00% [16000/16000 40:51<00:00 Sampling 4 chains, 0 divergences]\n",
       "    </div>\n",
       "    "
      ],
      "text/plain": [
       "<IPython.core.display.HTML object>"
      ]
     },
     "metadata": {},
     "output_type": "display_data"
    },
    {
     "name": "stderr",
     "output_type": "stream",
     "text": [
      "Sampling 4 chains for 2_000 tune and 2_000 draw iterations (8_000 + 8_000 draws total) took 2454 seconds.\n",
      "The number of effective samples is smaller than 10% for some parameters.\n"
     ]
    }
   ],
   "source": [
    "with pm.Model() as model_RW_valence:\n",
    "    \n",
    "    mu = pm.Normal('mu', 0, 1)\n",
    "    sd = pm.HalfNormal('sd',5) \n",
    "    intercept = pm.Normal('intercept', mu, sd, shape=n_subj)\n",
    "     \n",
    "    beta_h  = pm.Normal('beta_h', 0,1)\n",
    "    beta_sd = pm.HalfNormal('beta_sd', 1)\n",
    "    beta    = pm.Normal('beta',beta_h, beta_sd, shape=n_subj)\n",
    "    \n",
    "    eps = pm.HalfNormal('eps', 5)\n",
    "    \n",
    "    ap_a = pm.TruncatedNormal('ap_a', 3, 2, lower=1)\n",
    "    ap_b = pm.TruncatedNormal('ap_b', 7, 2, lower=1)\n",
    "    \n",
    "    an_a = pm.TruncatedNormal('an_a', 3, 2, lower=1)\n",
    "    an_b = pm.TruncatedNormal('an_b', 7, 2, lower=1)\n",
    "\n",
    "    alpha_p = pm.Beta('alpha_p', ap_a, ap_b, shape=n_subj)\n",
    "    alpha_n = pm.Beta('alpha_n', an_a, an_b, shape=n_subj)\n",
    "    \n",
    "    \n",
    "    Qs  = .5 * tt.ones((n_subj,2), dtype='float64') # set values for boths stimuli (CS+, CS-)\n",
    "    vec = .5 * tt.ones((n_subj,1), dtype='float64') # vector to save the relevant stimulus's expactation\n",
    "    \n",
    "    [Qs,vec], updates = theano.scan(\n",
    "        fn            = update_q.update_Q_valence,\n",
    "        sequences     = [stim, reward],\n",
    "        outputs_info  = [Qs, vec],\n",
    "        non_sequences = [alpha_p, alpha_n, n_subj])\n",
    "   \n",
    "    \n",
    "    vec_ = vec[trials,subj,0] * beta[subj] + intercept[subj]\n",
    "    \n",
    "    learn = pm.Normal('learn', vec_, eps, observed=rating) \n",
    "    \n",
    "    # add matrix of expected values (trials X subjects)\n",
    "    ev = pm.Deterministic('expected_value', vec_)\n",
    "    \n",
    "    trace_RW_valence = pm.sample(tune                 = tune, \n",
    "                                 draws                = draws, \n",
    "                                 return_inferencedata = True, \n",
    "                                 target_accept        = target_accept)"
   ]
  },
  {
   "cell_type": "markdown",
   "id": "846feb96",
   "metadata": {},
   "source": [
    "### Model 3:  Rescorla Wagner with separate learning rate for the different phases\n",
    "\n",
    "Daw, N. D. (2011). Trial-by-trial data analysis using computational models. Decision making, affect, and learning: Attention and performance XXIII, 23(1)."
   ]
  },
  {
   "cell_type": "code",
   "execution_count": 9,
   "id": "e6f2f963",
   "metadata": {},
   "outputs": [
    {
     "name": "stderr",
     "output_type": "stream",
     "text": [
      "Auto-assigning NUTS sampler...\n",
      "Initializing NUTS using jitter+adapt_diag...\n",
      "Multiprocess sampling (4 chains in 4 jobs)\n",
      "NUTS: [eps, alpha_2, alpha_1, a_b2, a_a2, a_b1, a_a1, beta, beta_sd, beta_h, intercept, sd, mu]\n"
     ]
    },
    {
     "data": {
      "text/html": [
       "\n",
       "    <div>\n",
       "        <style>\n",
       "            /* Turns off some styling */\n",
       "            progress {\n",
       "                /* gets rid of default border in Firefox and Opera. */\n",
       "                border: none;\n",
       "                /* Needs to be in here for Safari polyfill so background images work as expected. */\n",
       "                background-size: auto;\n",
       "            }\n",
       "            .progress-bar-interrupted, .progress-bar-interrupted::-webkit-progress-bar {\n",
       "                background: #F44336;\n",
       "            }\n",
       "        </style>\n",
       "      <progress value='16000' class='' max='16000' style='width:300px; height:20px; vertical-align: middle;'></progress>\n",
       "      100.00% [16000/16000 35:04<00:00 Sampling 4 chains, 0 divergences]\n",
       "    </div>\n",
       "    "
      ],
      "text/plain": [
       "<IPython.core.display.HTML object>"
      ]
     },
     "metadata": {},
     "output_type": "display_data"
    },
    {
     "name": "stderr",
     "output_type": "stream",
     "text": [
      "Sampling 4 chains for 2_000 tune and 2_000 draw iterations (8_000 + 8_000 draws total) took 2107 seconds.\n",
      "The number of effective samples is smaller than 25% for some parameters.\n"
     ]
    }
   ],
   "source": [
    "with pm.Model() as model_RW_halves:\n",
    "    \n",
    "    mu = pm.Normal('mu', 0, 1)\n",
    "    sd = pm.HalfNormal('sd',1) \n",
    "    intercept = pm.Normal('intercept', mu, sd, shape=n_subj)\n",
    "    \n",
    "    beta_h = pm.Normal('beta_h', 0,1)\n",
    "    beta_sd = pm.HalfNormal('beta_sd', 1)\n",
    "    beta = pm.Normal('beta',beta_h, beta_sd, shape=n_subj)\n",
    "    \n",
    "    a_a1 = pm.TruncatedNormal('a_a1', 3, 1, lower=1)\n",
    "    a_b1 = pm.TruncatedNormal('a_b1', 8, 2, lower=1)\n",
    "    \n",
    "    a_a2 = pm.TruncatedNormal('a_a2', 3, 1, lower=1)\n",
    "    a_b2 = pm.TruncatedNormal('a_b2', 8, 2, lower=1)\n",
    "\n",
    "\n",
    "    alpha_1 = pm.Beta('alpha_1', a_a1, a_b1, shape=n_subj)\n",
    "    alpha_2 = pm.Beta('alpha_2', a_a2, a_b2, shape=n_subj)\n",
    "    \n",
    "    eps = pm.HalfNormal('eps', 5)\n",
    "    \n",
    "    Qs  = .5 * tt.ones((n_subj,2), dtype='float64') # set values for boths stimuli (CS+, CS-)\n",
    "    vec = .5 * tt.ones((n_subj,1), dtype='float64') # vector to save the relevant stimulus's expactation\n",
    "    \n",
    "    [Qs,vec], updates = theano.scan(\n",
    "        fn            = update_q.update_Q_half,\n",
    "        sequences     = [stim, reward, trial],\n",
    "        outputs_info  = [Qs, vec],\n",
    "        non_sequences = [alpha_1, alpha_2,  n_subj])\n",
    "   \n",
    "    \n",
    "    vec_ = vec[trials,subj,0] * beta[subj] + intercept[subj]\n",
    "    \n",
    "    learn = pm.Normal('learn', vec_, eps, observed=rating) \n",
    "    \n",
    "    # add matrix of expected values (trials X subjects)\n",
    "    ev = pm.Deterministic('expected_value', vec_)\n",
    "    \n",
    "    trace_RW_halves = pm.sample(tune                 = tune, \n",
    "                                draws                = draws, \n",
    "                                return_inferencedata = True, \n",
    "                                target_accept        = target_accept)"
   ]
  },
  {
   "cell_type": "markdown",
   "id": "ff0d04d6",
   "metadata": {},
   "source": [
    "### Model 4: Rescorla Wagner with separate learning rate for negative and positive updating and the different phases"
   ]
  },
  {
   "cell_type": "code",
   "execution_count": 10,
   "id": "5454b77a",
   "metadata": {},
   "outputs": [
    {
     "name": "stderr",
     "output_type": "stream",
     "text": [
      "Auto-assigning NUTS sampler...\n",
      "Initializing NUTS using jitter+adapt_diag...\n",
      "Multiprocess sampling (4 chains in 4 jobs)\n",
      "NUTS: [eps, alphan_2, alphan_1, alphap_2, alphap_1, an_b2, an_a2, an_b1, an_a1, ap_b2, ap_a2, ap_b1, ap_a1, beta, beta_sd, beta_h, intercept, sd, mu]\n"
     ]
    },
    {
     "data": {
      "text/html": [
       "\n",
       "    <div>\n",
       "        <style>\n",
       "            /* Turns off some styling */\n",
       "            progress {\n",
       "                /* gets rid of default border in Firefox and Opera. */\n",
       "                border: none;\n",
       "                /* Needs to be in here for Safari polyfill so background images work as expected. */\n",
       "                background-size: auto;\n",
       "            }\n",
       "            .progress-bar-interrupted, .progress-bar-interrupted::-webkit-progress-bar {\n",
       "                background: #F44336;\n",
       "            }\n",
       "        </style>\n",
       "      <progress value='16000' class='' max='16000' style='width:300px; height:20px; vertical-align: middle;'></progress>\n",
       "      100.00% [16000/16000 49:20<00:00 Sampling 4 chains, 0 divergences]\n",
       "    </div>\n",
       "    "
      ],
      "text/plain": [
       "<IPython.core.display.HTML object>"
      ]
     },
     "metadata": {},
     "output_type": "display_data"
    },
    {
     "name": "stderr",
     "output_type": "stream",
     "text": [
      "Sampling 4 chains for 2_000 tune and 2_000 draw iterations (8_000 + 8_000 draws total) took 2963 seconds.\n",
      "The number of effective samples is smaller than 10% for some parameters.\n"
     ]
    }
   ],
   "source": [
    "with pm.Model() as model_RW_valence_halves:\n",
    "    \n",
    "    mu = pm.Normal('mu', 0, 1)\n",
    "    sd = pm.HalfNormal('sd',1) \n",
    "    intercept = pm.Normal('intercept', mu, sd, shape=n_subj)\n",
    "    \n",
    "    beta_h  = pm.Normal('beta_h', 0,1)\n",
    "    beta_sd = pm.HalfNormal('beta_sd', 1)\n",
    "    beta    = pm.Normal('beta',beta_h, beta_sd, shape=n_subj)\n",
    "    \n",
    "    ap_a1 = pm.TruncatedNormal('ap_a1', 3, 1, lower=1)\n",
    "    ap_b1 = pm.TruncatedNormal('ap_b1', 8, 2, lower=1)\n",
    "    \n",
    "    ap_a2 = pm.TruncatedNormal('ap_a2', 3, 1, lower=1)\n",
    "    ap_b2 = pm.TruncatedNormal('ap_b2', 8, 2, lower=1)\n",
    "    \n",
    "    an_a1 = pm.TruncatedNormal('an_a1', 3, 1, lower=1)\n",
    "    an_b1 = pm.TruncatedNormal('an_b1', 8, 2, lower=1)\n",
    "    \n",
    "    an_a2 = pm.TruncatedNormal('an_a2', 3, 1, lower=1)\n",
    "    an_b2 = pm.TruncatedNormal('an_b2', 8, 2, lower=1)\n",
    "\n",
    "    alphap_1 = pm.Beta('alphap_1', ap_a1, ap_b1, shape=n_subj)\n",
    "    alphap_2 = pm.Beta('alphap_2', ap_a2, ap_b2, shape=n_subj)\n",
    "    alphan_1 = pm.Beta('alphan_1', an_a1, an_b1, shape=n_subj)\n",
    "    alphan_2 = pm.Beta('alphan_2', an_a2, an_b2, shape=n_subj)\n",
    "    \n",
    "    eps = pm.HalfNormal('eps', 5)\n",
    "    \n",
    "    Qs  = .5 * tt.ones((n_subj,2), dtype='float64') # set values for boths stimuli (CS+, CS-)\n",
    "    vec = .5 * tt.ones((n_subj,1), dtype='float64') # vector to save the relevant stimulus's expactation\n",
    "    \n",
    "    [Qs,vec], updates = theano.scan(\n",
    "        fn            = update_q.update_Q_valence_half,\n",
    "        sequences     = [stim, reward, trial],\n",
    "        outputs_info  = [Qs, vec],\n",
    "        non_sequences = [alphap_1, alphan_1, alphap_2, alphan_2,  n_subj])\n",
    "   \n",
    "    \n",
    "    vec_ = vec[trials,subj,0] * beta[subj] + intercept[subj]\n",
    "    \n",
    "    learn = pm.Normal('learn', vec_, eps, observed=rating) \n",
    "    \n",
    "    # add matrix of expected values (trials X subjects)\n",
    "    ev = pm.Deterministic('expected_value', vec_)\n",
    "    \n",
    "    trace_RW_valence_halves = pm.sample(tune                 = tune, \n",
    "                                        draws                = draws, \n",
    "                                        return_inferencedata = True, \n",
    "                                        target_accept        = target_accept)"
   ]
  },
  {
   "cell_type": "markdown",
   "id": "a8d5a911",
   "metadata": {},
   "source": [
    "### Model 5: Rescorla Wagner with a decay factor\n",
    "\n",
    "cite"
   ]
  },
  {
   "cell_type": "code",
   "execution_count": 11,
   "id": "3331336a",
   "metadata": {},
   "outputs": [
    {
     "name": "stderr",
     "output_type": "stream",
     "text": [
      "Auto-assigning NUTS sampler...\n",
      "Initializing NUTS using jitter+adapt_diag...\n",
      "Multiprocess sampling (4 chains in 4 jobs)\n",
      "NUTS: [decay, decay_b, decay_a, alpha, a_b, a_a, eps, beta, beta_sd, beta_h, intercept, sd, mu]\n"
     ]
    },
    {
     "data": {
      "text/html": [
       "\n",
       "    <div>\n",
       "        <style>\n",
       "            /* Turns off some styling */\n",
       "            progress {\n",
       "                /* gets rid of default border in Firefox and Opera. */\n",
       "                border: none;\n",
       "                /* Needs to be in here for Safari polyfill so background images work as expected. */\n",
       "                background-size: auto;\n",
       "            }\n",
       "            .progress-bar-interrupted, .progress-bar-interrupted::-webkit-progress-bar {\n",
       "                background: #F44336;\n",
       "            }\n",
       "        </style>\n",
       "      <progress value='16000' class='' max='16000' style='width:300px; height:20px; vertical-align: middle;'></progress>\n",
       "      100.00% [16000/16000 1:23:10<00:00 Sampling 4 chains, 0 divergences]\n",
       "    </div>\n",
       "    "
      ],
      "text/plain": [
       "<IPython.core.display.HTML object>"
      ]
     },
     "metadata": {},
     "output_type": "display_data"
    },
    {
     "name": "stderr",
     "output_type": "stream",
     "text": [
      "Sampling 4 chains for 2_000 tune and 2_000 draw iterations (8_000 + 8_000 draws total) took 4992 seconds.\n",
      "The rhat statistic is larger than 1.05 for some parameters. This indicates slight problems during sampling.\n",
      "The estimated number of effective samples is smaller than 200 for some parameters.\n"
     ]
    }
   ],
   "source": [
    "with pm.Model() as model_RW_decay:\n",
    "    \n",
    "    mu = pm.Normal('mu', 0, 1)\n",
    "    sd = pm.HalfNormal('sd',1) \n",
    "    intercept = pm.Normal('intercept', mu, sd, shape=n_subj)\n",
    "    \n",
    "    beta_h  = pm.Normal('beta_h', 0,1)\n",
    "    beta_sd = pm.HalfNormal('beta_sd', 1)\n",
    "    beta    = pm.Normal('beta',beta_h, beta_sd, shape=n_subj)\n",
    "    \n",
    "    eps = pm.HalfNormal('eps', 5)\n",
    "    \n",
    "    a_a = pm.TruncatedNormal('a_a', 3, 1, lower=1)\n",
    "    a_b = pm.TruncatedNormal('a_b', 8, 2, lower=1)\n",
    "\n",
    "    alpha = pm.Beta('alpha', a_a, a_b, shape=n_subj)\n",
    "    \n",
    "    decay_a = pm.TruncatedNormal('decay_a', 5, 2, lower=1)\n",
    "    decay_b = pm.TruncatedNormal('decay_b', 2, 2, lower=1)\n",
    "    \n",
    "    decay = pm.Beta('decay', decay_a, decay_b, shape=n_subj)\n",
    "    \n",
    "    Qs  = .5 * tt.ones((n_subj,2), dtype='float64') # set values for boths stimuli (CS+, CS-)\n",
    "    vec = .5 * tt.ones((n_subj,1), dtype='float64') # vector to save the relevant stimulus's expactation\n",
    "    \n",
    "    [Qs,vec], updates = theano.scan(\n",
    "        fn            = update_q.update_Q_decay,\n",
    "        sequences     = [stim, reward],\n",
    "        outputs_info  = [Qs, vec],\n",
    "        non_sequences = [alpha, decay, n_subj])\n",
    "   \n",
    "    \n",
    "    vec_ = vec[trials,subj,0] * beta[subj] + intercept[subj]\n",
    "    \n",
    "    learn = pm.Normal('learn', vec_, eps, observed = rating) \n",
    "    \n",
    "    # add matrix of expected values (trials X subjects)\n",
    "    ev = pm.Deterministic('expected_value', vec_)\n",
    "    \n",
    "    trace_RW_decay = pm.sample(tune                 = tune, \n",
    "                               draws                = draws, \n",
    "                               return_inferencedata = True, \n",
    "                               target_accept        = .99)"
   ]
  },
  {
   "cell_type": "markdown",
   "id": "7f9e9b2d",
   "metadata": {},
   "source": [
    "### Model 6: Pierce Hall model\n",
    "\n",
    "Homan, P., Levy, I., Feltham, E., Gordon, C., Hu, J., Li, J., ... & Schiller, D. (2019). Neural computations of threat in the aftermath of combat trauma. Nature Neuroscience, 22(3), 470-476."
   ]
  },
  {
   "cell_type": "code",
   "execution_count": 12,
   "id": "fac05ef2",
   "metadata": {},
   "outputs": [
    {
     "name": "stderr",
     "output_type": "stream",
     "text": [
      "Auto-assigning NUTS sampler...\n",
      "Initializing NUTS using jitter+adapt_diag...\n",
      "Multiprocess sampling (4 chains in 4 jobs)\n",
      "NUTS: [eps, kappa, eta, kappa_b, kappa_a, eta_b, eta_a, beta, beta_sd, beta_h, intercept, sd, mu]\n"
     ]
    },
    {
     "data": {
      "text/html": [
       "\n",
       "    <div>\n",
       "        <style>\n",
       "            /* Turns off some styling */\n",
       "            progress {\n",
       "                /* gets rid of default border in Firefox and Opera. */\n",
       "                border: none;\n",
       "                /* Needs to be in here for Safari polyfill so background images work as expected. */\n",
       "                background-size: auto;\n",
       "            }\n",
       "            .progress-bar-interrupted, .progress-bar-interrupted::-webkit-progress-bar {\n",
       "                background: #F44336;\n",
       "            }\n",
       "        </style>\n",
       "      <progress value='20000' class='' max='20000' style='width:300px; height:20px; vertical-align: middle;'></progress>\n",
       "      100.00% [20000/20000 3:13:11<00:00 Sampling 4 chains, 0 divergences]\n",
       "    </div>\n",
       "    "
      ],
      "text/plain": [
       "<IPython.core.display.HTML object>"
      ]
     },
     "metadata": {},
     "output_type": "display_data"
    },
    {
     "name": "stderr",
     "output_type": "stream",
     "text": [
      "Sampling 4 chains for 3_000 tune and 2_000 draw iterations (12_000 + 8_000 draws total) took 11594 seconds.\n",
      "The rhat statistic is larger than 1.05 for some parameters. This indicates slight problems during sampling.\n",
      "The estimated number of effective samples is smaller than 200 for some parameters.\n"
     ]
    }
   ],
   "source": [
    "with pm.Model() as model_PH:\n",
    "    \n",
    "    # Hyper priors\n",
    "    mu = pm.Normal('mu', 0, 1)\n",
    "    sd = pm.HalfNormal('sd',1) \n",
    "    intercept = pm.Normal('intercept', mu, sd, shape=n_subj)\n",
    "    \n",
    "    beta_h = pm.Normal('beta_h', 0,1)\n",
    "    beta_sd = pm.HalfNormal('beta_sd', .1)\n",
    "    beta = pm.Normal('beta',beta_h, beta_sd, shape=n_subj)\n",
    "    \n",
    "    \n",
    "    eta_a = pm.TruncatedNormal('eta_a', 3, 1, lower=1)\n",
    "    eta_b = pm.TruncatedNormal('eta_b', 8, 2, lower=1)\n",
    "    \n",
    "    kappa_a = pm.TruncatedNormal('kappa_a', 8, 2, lower=1)\n",
    "    kappa_b = pm.TruncatedNormal('kappa_b', 3, 1, lower=1)\n",
    "      \n",
    "    eta = pm.Beta('eta', eta_a, eta_b, shape=n_subj)\n",
    "    kappa = pm.Beta('kappa', kappa_a, kappa_b, shape=n_subj)\n",
    "\n",
    "    \n",
    "    eps = pm.HalfNormal('eps', 5)\n",
    "    \n",
    "    \n",
    "    Qs = 0.5 * tt.ones((n_subj,2), dtype='float64') # set values for boths stimuli (CS+, CS-)\n",
    "    vec = 0.5 * tt.ones((n_subj,1), dtype='float64') # vector to save the relevant stimulus's expactation\n",
    "    alpha = 0 * tt.ones((n_subj,2), dtype='float64') # vector to save the relevant stimulus's expactation\n",
    "    assoc = 0 * tt.ones((n_subj,1), dtype='float64') # vector to save the relevant stimulus's expactation\n",
    "    \n",
    "    [Qs,vec, alpha, assoc], updates = theano.scan(\n",
    "        fn=update_q.update_Q_hall,\n",
    "        sequences=[stim, reward],\n",
    "        outputs_info=[Qs, vec, alpha, assoc],\n",
    "        non_sequences=[eta, kappa, n_subj])\n",
    "    \n",
    "    vec_ = vec[trials, subj,0] * beta[subj] + intercept[subj]\n",
    "    \n",
    "    learn = pm.Normal('learn', mu = vec_, sd = eps, observed=rating) \n",
    "    \n",
    "    ev = pm.Deterministic('expected_value', vec_)\n",
    "    \n",
    "    trace_PH = pm.sample(tune=3000, draws=draws, return_inferencedata=True, target_accept= .99)"
   ]
  },
  {
   "cell_type": "markdown",
   "id": "c3d5df66",
   "metadata": {},
   "source": [
    "### Compare models"
   ]
  },
  {
   "cell_type": "code",
   "execution_count": 13,
   "id": "96e1b1e1",
   "metadata": {},
   "outputs": [
    {
     "data": {
      "text/html": [
       "<div>\n",
       "<style scoped>\n",
       "    .dataframe tbody tr th:only-of-type {\n",
       "        vertical-align: middle;\n",
       "    }\n",
       "\n",
       "    .dataframe tbody tr th {\n",
       "        vertical-align: top;\n",
       "    }\n",
       "\n",
       "    .dataframe thead th {\n",
       "        text-align: right;\n",
       "    }\n",
       "</style>\n",
       "<table border=\"1\" class=\"dataframe\">\n",
       "  <thead>\n",
       "    <tr style=\"text-align: right;\">\n",
       "      <th></th>\n",
       "      <th>rank</th>\n",
       "      <th>loo</th>\n",
       "      <th>p_loo</th>\n",
       "      <th>d_loo</th>\n",
       "      <th>weight</th>\n",
       "      <th>se</th>\n",
       "      <th>dse</th>\n",
       "      <th>warning</th>\n",
       "      <th>loo_scale</th>\n",
       "    </tr>\n",
       "  </thead>\n",
       "  <tbody>\n",
       "    <tr>\n",
       "      <th>RW valence halves</th>\n",
       "      <td>0</td>\n",
       "      <td>-520.368251</td>\n",
       "      <td>144.714920</td>\n",
       "      <td>0.000000</td>\n",
       "      <td>5.856486e-01</td>\n",
       "      <td>41.378988</td>\n",
       "      <td>0.000000</td>\n",
       "      <td>False</td>\n",
       "      <td>log</td>\n",
       "    </tr>\n",
       "    <tr>\n",
       "      <th>RW halves</th>\n",
       "      <td>1</td>\n",
       "      <td>-532.017050</td>\n",
       "      <td>140.661940</td>\n",
       "      <td>11.648798</td>\n",
       "      <td>4.143514e-01</td>\n",
       "      <td>41.119988</td>\n",
       "      <td>12.512387</td>\n",
       "      <td>False</td>\n",
       "      <td>log</td>\n",
       "    </tr>\n",
       "    <tr>\n",
       "      <th>RW valence</th>\n",
       "      <td>2</td>\n",
       "      <td>-569.766451</td>\n",
       "      <td>106.962732</td>\n",
       "      <td>49.398200</td>\n",
       "      <td>1.581362e-11</td>\n",
       "      <td>40.143034</td>\n",
       "      <td>10.210727</td>\n",
       "      <td>False</td>\n",
       "      <td>log</td>\n",
       "    </tr>\n",
       "    <tr>\n",
       "      <th>RW</th>\n",
       "      <td>3</td>\n",
       "      <td>-595.539724</td>\n",
       "      <td>95.791900</td>\n",
       "      <td>75.171472</td>\n",
       "      <td>2.450948e-12</td>\n",
       "      <td>39.557369</td>\n",
       "      <td>11.128312</td>\n",
       "      <td>False</td>\n",
       "      <td>log</td>\n",
       "    </tr>\n",
       "    <tr>\n",
       "      <th>PH</th>\n",
       "      <td>4</td>\n",
       "      <td>-603.393320</td>\n",
       "      <td>79.596104</td>\n",
       "      <td>83.025069</td>\n",
       "      <td>6.918079e-12</td>\n",
       "      <td>39.363098</td>\n",
       "      <td>12.130089</td>\n",
       "      <td>False</td>\n",
       "      <td>log</td>\n",
       "    </tr>\n",
       "    <tr>\n",
       "      <th>RW decay</th>\n",
       "      <td>5</td>\n",
       "      <td>-603.978041</td>\n",
       "      <td>89.387339</td>\n",
       "      <td>83.609790</td>\n",
       "      <td>0.000000e+00</td>\n",
       "      <td>39.446025</td>\n",
       "      <td>11.935965</td>\n",
       "      <td>False</td>\n",
       "      <td>log</td>\n",
       "    </tr>\n",
       "  </tbody>\n",
       "</table>\n",
       "</div>"
      ],
      "text/plain": [
       "                   rank         loo       p_loo      d_loo        weight  \\\n",
       "RW valence halves     0 -520.368251  144.714920   0.000000  5.856486e-01   \n",
       "RW halves             1 -532.017050  140.661940  11.648798  4.143514e-01   \n",
       "RW valence            2 -569.766451  106.962732  49.398200  1.581362e-11   \n",
       "RW                    3 -595.539724   95.791900  75.171472  2.450948e-12   \n",
       "PH                    4 -603.393320   79.596104  83.025069  6.918079e-12   \n",
       "RW decay              5 -603.978041   89.387339  83.609790  0.000000e+00   \n",
       "\n",
       "                          se        dse  warning loo_scale  \n",
       "RW valence halves  41.378988   0.000000    False       log  \n",
       "RW halves          41.119988  12.512387    False       log  \n",
       "RW valence         40.143034  10.210727    False       log  \n",
       "RW                 39.557369  11.128312    False       log  \n",
       "PH                 39.363098  12.130089    False       log  \n",
       "RW decay           39.446025  11.935965    False       log  "
      ]
     },
     "execution_count": 13,
     "metadata": {},
     "output_type": "execute_result"
    }
   ],
   "source": [
    "models = {'RW': trace_RW, \n",
    "          'RW valence': trace_RW_valence,\n",
    "          'RW halves':trace_RW_halves,\n",
    "          'RW decay':trace_RW_decay, \n",
    "          'RW valence halves':trace_RW_valence_halves,\n",
    "          'PH': trace_PH}\n",
    "\n",
    "comp = az.compare(models)\n",
    "az.compare(models, ic='loo')"
   ]
  },
  {
   "cell_type": "markdown",
   "id": "996cb7cd",
   "metadata": {},
   "source": [
    "## Step 2: Is there an association between age and learning rate?\n",
    "\n",
    "### Model 7: Classical Rescorla Wagner + Age"
   ]
  },
  {
   "cell_type": "code",
   "execution_count": 14,
   "id": "6431c1c2",
   "metadata": {},
   "outputs": [
    {
     "name": "stderr",
     "output_type": "stream",
     "text": [
      "Auto-assigning NUTS sampler...\n",
      "Initializing NUTS using jitter+adapt_diag...\n",
      "Multiprocess sampling (4 chains in 4 jobs)\n",
      "NUTS: [alpha, eps, a_b, a_a, Age, beta, beta_sd, beta_h, intercept, sd, mu]\n"
     ]
    },
    {
     "data": {
      "text/html": [
       "\n",
       "    <div>\n",
       "        <style>\n",
       "            /* Turns off some styling */\n",
       "            progress {\n",
       "                /* gets rid of default border in Firefox and Opera. */\n",
       "                border: none;\n",
       "                /* Needs to be in here for Safari polyfill so background images work as expected. */\n",
       "                background-size: auto;\n",
       "            }\n",
       "            .progress-bar-interrupted, .progress-bar-interrupted::-webkit-progress-bar {\n",
       "                background: #F44336;\n",
       "            }\n",
       "        </style>\n",
       "      <progress value='16000' class='' max='16000' style='width:300px; height:20px; vertical-align: middle;'></progress>\n",
       "      100.00% [16000/16000 1:11:19<00:00 Sampling 4 chains, 48 divergences]\n",
       "    </div>\n",
       "    "
      ],
      "text/plain": [
       "<IPython.core.display.HTML object>"
      ]
     },
     "metadata": {},
     "output_type": "display_data"
    },
    {
     "name": "stderr",
     "output_type": "stream",
     "text": [
      "Sampling 4 chains for 2_000 tune and 2_000 draw iterations (8_000 + 8_000 draws total) took 4281 seconds.\n",
      "There were 10 divergences after tuning. Increase `target_accept` or reparameterize.\n",
      "There were 20 divergences after tuning. Increase `target_accept` or reparameterize.\n",
      "There were 16 divergences after tuning. Increase `target_accept` or reparameterize.\n",
      "There were 2 divergences after tuning. Increase `target_accept` or reparameterize.\n",
      "The number of effective samples is smaller than 10% for some parameters.\n"
     ]
    }
   ],
   "source": [
    "with pm.Model() as model_RW_Age:\n",
    "    \n",
    "    # connecting function\n",
    "    mu = pm.Normal('mu', .4, .1)\n",
    "    sd = pm.HalfNormal('sd',.5) \n",
    "    intercept = pm.Normal('intercept', mu, sd, shape=n_subj)\n",
    "    \n",
    "    beta_h = pm.Normal('beta_h', .3, .1)\n",
    "    beta_sd = pm.HalfNormal('beta_sd', .5)\n",
    "    beta = pm.Normal('beta',beta_h, beta_sd, shape=n_subj)\n",
    "    \n",
    "    # Age slope\n",
    "    Age = pm.Normal('Age', 0, .2)\n",
    "    \n",
    "    # Model Hyper priors\n",
    "    a_a = pm.TruncatedNormal('a_a', 3, 2, lower=1)\n",
    "    a_b = pm.TruncatedNormal('a_b', 7, 2, lower=1)\n",
    "    eps = pm.HalfNormal('eps', 5)\n",
    "    \n",
    "    alpha = pm.Beta('alpha', a_a, a_b, shape=n_subj)\n",
    "    alphaAge = alpha + Age*ageList\n",
    "    \n",
    "    Qs = .5 * tt.ones((n_subj,2), dtype='float64') # set values for boths stimuli (CS+, CS-)\n",
    "    vec = .5 * tt.ones((n_subj,1), dtype='float64') # vector to save the relevant stimulus's expactation\n",
    "    \n",
    "    [Qs,vec], updates = theano.scan(\n",
    "        fn=update_q.update_Q,\n",
    "        sequences=[stim, reward],\n",
    "        outputs_info=[Qs, vec],\n",
    "        non_sequences=[alphaAge, n_subj])\n",
    "   \n",
    "    \n",
    "    vec_ = vec[trials,subj,0] * beta[subj] + intercept[subj]\n",
    "    \n",
    "    learn = pm.Normal('learn', vec_, eps, observed=rating) \n",
    "    \n",
    "    # add matrix of expected values (trials X subjects)\n",
    "    ev = pm.Deterministic('expected_value', vec_)\n",
    "    \n",
    "    trace_RW_age = pm.sample(tune=tune, draws=draws, return_inferencedata=True, target_accept= target_accept)"
   ]
  },
  {
   "cell_type": "markdown",
   "id": "f5c10c1a",
   "metadata": {},
   "source": [
    "### Model 8:  Rescorla Wagner with separate learning rate for negative and positive updating + Age"
   ]
  },
  {
   "cell_type": "code",
   "execution_count": 15,
   "id": "f03e508f",
   "metadata": {},
   "outputs": [
    {
     "name": "stderr",
     "output_type": "stream",
     "text": [
      "Auto-assigning NUTS sampler...\n",
      "Initializing NUTS using jitter+adapt_diag...\n",
      "Multiprocess sampling (4 chains in 4 jobs)\n",
      "NUTS: [Agen, Agep, alpha_n, alpha_p, an_b, an_a, ap_b, ap_a, eps, beta, beta_sd, beta_h, intercept, sd, mu]\n"
     ]
    },
    {
     "data": {
      "text/html": [
       "\n",
       "    <div>\n",
       "        <style>\n",
       "            /* Turns off some styling */\n",
       "            progress {\n",
       "                /* gets rid of default border in Firefox and Opera. */\n",
       "                border: none;\n",
       "                /* Needs to be in here for Safari polyfill so background images work as expected. */\n",
       "                background-size: auto;\n",
       "            }\n",
       "            .progress-bar-interrupted, .progress-bar-interrupted::-webkit-progress-bar {\n",
       "                background: #F44336;\n",
       "            }\n",
       "        </style>\n",
       "      <progress value='16000' class='' max='16000' style='width:300px; height:20px; vertical-align: middle;'></progress>\n",
       "      100.00% [16000/16000 1:04:36<00:00 Sampling 4 chains, 2 divergences]\n",
       "    </div>\n",
       "    "
      ],
      "text/plain": [
       "<IPython.core.display.HTML object>"
      ]
     },
     "metadata": {},
     "output_type": "display_data"
    },
    {
     "name": "stderr",
     "output_type": "stream",
     "text": [
      "Sampling 4 chains for 2_000 tune and 2_000 draw iterations (8_000 + 8_000 draws total) took 3877 seconds.\n",
      "There was 1 divergence after tuning. Increase `target_accept` or reparameterize.\n",
      "There was 1 divergence after tuning. Increase `target_accept` or reparameterize.\n",
      "The estimated number of effective samples is smaller than 200 for some parameters.\n"
     ]
    }
   ],
   "source": [
    "with pm.Model() as model_RW_valence_age:\n",
    "    \n",
    "    mu = pm.Normal('mu', .4, .1)\n",
    "    sd = pm.HalfNormal('sd',.5) \n",
    "    intercept = pm.Normal('intercept', mu, sd, shape=n_subj)\n",
    "    \n",
    "    beta_h = pm.Normal('beta_h', .3, .1)\n",
    "    beta_sd = pm.HalfNormal('beta_sd', .5)\n",
    "    beta = pm.Normal('beta',beta_h, beta_sd, shape=n_subj)\n",
    "    \n",
    "    eps = pm.HalfNormal('eps', 5)\n",
    "    \n",
    "    ap_a = pm.TruncatedNormal('ap_a', 3, 2, lower=1)\n",
    "    ap_b = pm.TruncatedNormal('ap_b', 7, 2, lower=1)\n",
    "    \n",
    "    an_a = pm.TruncatedNormal('an_a', 3, 2, lower=1)\n",
    "    an_b = pm.TruncatedNormal('an_b', 7, 2, lower=1)\n",
    "\n",
    "    alpha_p = pm.Beta('alpha_p', ap_a, ap_b, shape=n_subj)\n",
    "    alpha_n = pm.Beta('alpha_n', an_a, an_b, shape=n_subj)\n",
    "    \n",
    "    Agep = pm.Normal('Agep', 0, .2)\n",
    "    Agen = pm.Normal('Agen', 0, .2)\n",
    "    \n",
    "    alphapAge = alpha_p + Agep*ageList\n",
    "    alphanAge = alpha_n + Agen*ageList\n",
    "    \n",
    "    \n",
    "    Qs = .5 * tt.ones((n_subj,2), dtype='float64') # set values for boths stimuli (CS+, CS-)\n",
    "    vec = .5 * tt.ones((n_subj,1), dtype='float64') # vector to save the relevant stimulus's expactation\n",
    "    \n",
    "    [Qs,vec], updates = theano.scan(\n",
    "        fn=update_q.update_Q_valence,\n",
    "        sequences=[stim, reward],\n",
    "        outputs_info=[Qs, vec],\n",
    "        non_sequences=[alphapAge, alphanAge, n_subj])\n",
    "   \n",
    "    \n",
    "    vec_ = vec[trials,subj,0] * beta[subj] + intercept[subj]\n",
    "    \n",
    "    learn = pm.Normal('learn', vec_, eps, observed=rating) \n",
    "    \n",
    "    # add matrix of expected values (trials X subjects)\n",
    "    ev = pm.Deterministic('expected_value', vec_)\n",
    "    \n",
    "    trace_RW_valence_age = pm.sample(tune=tune, draws=draws, return_inferencedata=True, target_accept= target_accept)"
   ]
  },
  {
   "cell_type": "markdown",
   "id": "3f670221",
   "metadata": {},
   "source": [
    "### Model 9:  Rescorla Wagner with separate learning rate for the different phases + Age\n"
   ]
  },
  {
   "cell_type": "code",
   "execution_count": 16,
   "id": "1b74d4d2",
   "metadata": {},
   "outputs": [
    {
     "name": "stderr",
     "output_type": "stream",
     "text": [
      "Auto-assigning NUTS sampler...\n",
      "Initializing NUTS using jitter+adapt_diag...\n",
      "Multiprocess sampling (4 chains in 4 jobs)\n",
      "NUTS: [eps, Age2, Age1, alpha_2, alpha_1, a_b2, a_a2, a_b1, a_a1, beta, beta_sd, beta_h, intercept, sd, mu]\n"
     ]
    },
    {
     "data": {
      "text/html": [
       "\n",
       "    <div>\n",
       "        <style>\n",
       "            /* Turns off some styling */\n",
       "            progress {\n",
       "                /* gets rid of default border in Firefox and Opera. */\n",
       "                border: none;\n",
       "                /* Needs to be in here for Safari polyfill so background images work as expected. */\n",
       "                background-size: auto;\n",
       "            }\n",
       "            .progress-bar-interrupted, .progress-bar-interrupted::-webkit-progress-bar {\n",
       "                background: #F44336;\n",
       "            }\n",
       "        </style>\n",
       "      <progress value='16000' class='' max='16000' style='width:300px; height:20px; vertical-align: middle;'></progress>\n",
       "      100.00% [16000/16000 51:51<00:00 Sampling 4 chains, 5 divergences]\n",
       "    </div>\n",
       "    "
      ],
      "text/plain": [
       "<IPython.core.display.HTML object>"
      ]
     },
     "metadata": {},
     "output_type": "display_data"
    },
    {
     "name": "stderr",
     "output_type": "stream",
     "text": [
      "Sampling 4 chains for 2_000 tune and 2_000 draw iterations (8_000 + 8_000 draws total) took 3113 seconds.\n",
      "There were 3 divergences after tuning. Increase `target_accept` or reparameterize.\n",
      "There was 1 divergence after tuning. Increase `target_accept` or reparameterize.\n",
      "There was 1 divergence after tuning. Increase `target_accept` or reparameterize.\n",
      "The number of effective samples is smaller than 10% for some parameters.\n"
     ]
    }
   ],
   "source": [
    "with pm.Model() as model_RW_halves_h:\n",
    "    \n",
    "    mu = pm.Normal('mu', .4, .1)\n",
    "    sd = pm.HalfNormal('sd',.5) \n",
    "    intercept = pm.Normal('intercept', mu, sd, shape=n_subj)\n",
    "    \n",
    "    beta_h = pm.Normal('beta_h', .3, .1)\n",
    "    beta_sd = pm.HalfNormal('beta_sd', .5)\n",
    "    beta = pm.Normal('beta',beta_h, beta_sd, shape=n_subj)\n",
    "    \n",
    "    a_a1 = pm.TruncatedNormal('a_a1', 3, 1, lower=1)\n",
    "    a_b1 = pm.TruncatedNormal('a_b1', 8, 2, lower=1)\n",
    "    \n",
    "    a_a2 = pm.TruncatedNormal('a_a2', 3, 1, lower=1)\n",
    "    a_b2 = pm.TruncatedNormal('a_b2', 8, 2, lower=1)\n",
    "\n",
    "\n",
    "    alpha_1 = pm.Beta('alpha_1', a_a1, a_b1, shape=n_subj)\n",
    "    alpha_2 = pm.Beta('alpha_2', a_a2, a_b2, shape=n_subj)\n",
    "    \n",
    "    Age1 = pm.Normal('Age1', 0, .2)\n",
    "    Age2 = pm.Normal('Age2', 0, .2)\n",
    "    \n",
    "    alpha1Age = alpha_1 + Age1*ageList\n",
    "    alpha2Age = alpha_2 + Age2*ageList\n",
    "    \n",
    "    eps = pm.HalfNormal('eps', 5)\n",
    "    \n",
    "    Qs = .5 * tt.ones((n_subj,2), dtype='float64') # set values for boths stimuli (CS+, CS-)\n",
    "    vec = .5 * tt.ones((n_subj,1), dtype='float64') # vector to save the relevant stimulus's expactation\n",
    "    \n",
    "    [Qs,vec], updates = theano.scan(\n",
    "        fn=update_q.update_Q_half,\n",
    "        sequences=[stim, reward, trial],\n",
    "        outputs_info=[Qs, vec],\n",
    "        non_sequences=[alpha1Age, alpha2Age,  n_subj])\n",
    "   \n",
    "    \n",
    "    vec_ = vec[trials,subj,0] * beta[subj] + intercept[subj]\n",
    "    \n",
    "    learn = pm.Normal('learn', vec_, eps, observed=rating) \n",
    "    \n",
    "    # add matrix of expected values (trials X subjects)\n",
    "    ev = pm.Deterministic('expected_value', vec_)\n",
    "    \n",
    "    trace_RW_halves_age = pm.sample(tune=tune, draws=draws, return_inferencedata=True, target_accept= target_accept)"
   ]
  },
  {
   "cell_type": "markdown",
   "id": "c2eedb81",
   "metadata": {},
   "source": [
    "### Model 10: Rescorla Wagner with separate learning rate for negative and positive updating and the different phases + Age"
   ]
  },
  {
   "cell_type": "code",
   "execution_count": 7,
   "id": "cbe41dd4",
   "metadata": {},
   "outputs": [
    {
     "name": "stderr",
     "output_type": "stream",
     "text": [
      "Auto-assigning NUTS sampler...\n",
      "Initializing NUTS using jitter+adapt_diag...\n",
      "Multiprocess sampling (4 chains in 4 jobs)\n",
      "NUTS: [eps, Age2n, Age1n, Age2p, Age1p, alphan_2, alphan_1, alphap_2, alphap_1, an_b2, an_a2, an_b1, an_a1, ap_b2, ap_a2, ap_b1, ap_a1, beta, beta_sd, beta_h, intercept, sd, mu]\n"
     ]
    },
    {
     "data": {
      "text/html": [
       "\n",
       "    <div>\n",
       "        <style>\n",
       "            /* Turns off some styling */\n",
       "            progress {\n",
       "                /* gets rid of default border in Firefox and Opera. */\n",
       "                border: none;\n",
       "                /* Needs to be in here for Safari polyfill so background images work as expected. */\n",
       "                background-size: auto;\n",
       "            }\n",
       "            .progress-bar-interrupted, .progress-bar-interrupted::-webkit-progress-bar {\n",
       "                background: #F44336;\n",
       "            }\n",
       "        </style>\n",
       "      <progress value='16000' class='' max='16000' style='width:300px; height:20px; vertical-align: middle;'></progress>\n",
       "      100.00% [16000/16000 1:29:09<00:00 Sampling 4 chains, 32 divergences]\n",
       "    </div>\n",
       "    "
      ],
      "text/plain": [
       "<IPython.core.display.HTML object>"
      ]
     },
     "metadata": {},
     "output_type": "display_data"
    },
    {
     "name": "stderr",
     "output_type": "stream",
     "text": [
      "Sampling 4 chains for 2_000 tune and 2_000 draw iterations (8_000 + 8_000 draws total) took 5352 seconds.\n",
      "There was 1 divergence after tuning. Increase `target_accept` or reparameterize.\n",
      "There were 31 divergences after tuning. Increase `target_accept` or reparameterize.\n",
      "The estimated number of effective samples is smaller than 200 for some parameters.\n"
     ]
    }
   ],
   "source": [
    "with pm.Model() as model_RW_valence_halves:\n",
    "    \n",
    "    mu = pm.Normal('mu', .4, .1)\n",
    "    sd = pm.HalfNormal('sd',.5) \n",
    "    intercept = pm.Normal('intercept', mu, sd, shape=n_subj)\n",
    "    \n",
    "    beta_h = pm.Normal('beta_h', .3, .1)\n",
    "    beta_sd = pm.HalfNormal('beta_sd', .5)\n",
    "    beta = pm.Normal('beta',beta_h, beta_sd, shape=n_subj)\n",
    "    \n",
    "    ap_a1 = pm.TruncatedNormal('ap_a1', 3, 1, lower=1)\n",
    "    ap_b1 = pm.TruncatedNormal('ap_b1', 8, 1, lower=1)\n",
    "    \n",
    "    ap_a2 = pm.TruncatedNormal('ap_a2', 3, 1, lower=1)\n",
    "    ap_b2 = pm.TruncatedNormal('ap_b2', 8, 1, lower=1)\n",
    "    \n",
    "    an_a1 = pm.TruncatedNormal('an_a1', 3, 1, lower=1)\n",
    "    an_b1 = pm.TruncatedNormal('an_b1', 8, 1, lower=1)\n",
    "    \n",
    "    an_a2 = pm.TruncatedNormal('an_a2', 3, 1, lower=1)\n",
    "    an_b2 = pm.TruncatedNormal('an_b2', 8, 1, lower=1)\n",
    "\n",
    "    alphap_1 = pm.Beta('alphap_1', ap_a1, ap_b1, shape=n_subj)\n",
    "    alphap_2 = pm.Beta('alphap_2', ap_a2, ap_b2, shape=n_subj)\n",
    "    alphan_1 = pm.Beta('alphan_1', an_a1, an_b1, shape=n_subj)\n",
    "    alphan_2 = pm.Beta('alphan_2', an_a2, an_b2, shape=n_subj)\n",
    "    \n",
    "    Age1p = pm.Normal('Age1p', 0, .2)\n",
    "    Age2p = pm.Normal('Age2p', 0, .2)\n",
    "    Age1n = pm.Normal('Age1n', 0, .2)\n",
    "    Age2n = pm.Normal('Age2n', 0, .2)\n",
    "    \n",
    "    alpha1pAge = alphap_1 + Age1p*ageList\n",
    "    alpha2pAge = alphap_2 + Age2p*ageList\n",
    "    alpha1nAge = alphan_1 + Age1n*ageList\n",
    "    alpha2nAge = alphan_2 + Age2n*ageList\n",
    "    \n",
    "    eps = pm.HalfNormal('eps', 5)\n",
    "    \n",
    "    Qs = .5 * tt.ones((n_subj,2), dtype='float64') # set values for boths stimuli (CS+, CS-)\n",
    "    vec = .5 * tt.ones((n_subj,1), dtype='float64') # vector to save the relevant stimulus's expactation\n",
    "    \n",
    "    [Qs,vec], updates = theano.scan(\n",
    "        fn=update_q.update_Q_valence_half,\n",
    "        sequences=[stim, reward, trial],\n",
    "        outputs_info=[Qs, vec],\n",
    "        non_sequences=[alpha1pAge, alpha1nAge, alpha2pAge, alpha2nAge,  n_subj])\n",
    "   \n",
    "    \n",
    "    vec_ = vec[trials,subj,0] * beta[subj] + intercept[subj]\n",
    "    \n",
    "    learn = pm.Normal('learn', vec_, eps, observed=rating) \n",
    "    \n",
    "    # add matrix of expected values (trials X subjects)\n",
    "    ev = pm.Deterministic('expected_value', vec_)\n",
    "    \n",
    "    trace_RW_valence_halves_age = pm.sample(tune=tune, draws=draws, return_inferencedata=True, target_accept= target_accept)"
   ]
  },
  {
   "cell_type": "code",
   "execution_count": 19,
   "id": "669907f7",
   "metadata": {},
   "outputs": [
    {
     "name": "stderr",
     "output_type": "stream",
     "text": [
      "/home/nachshon/anaconda3/envs/reversal/lib/python3.9/site-packages/arviz/stats/stats.py:694: UserWarning: Estimated shape parameter of Pareto distribution is greater than 0.7 for one or more samples. You should consider using a more robust model, this is because importance sampling is less likely to work well if the marginal posterior and LOO posterior are very different. This is more likely to happen with a non-robust model and highly influential observations.\n",
      "  warnings.warn(\n",
      "/home/nachshon/anaconda3/envs/reversal/lib/python3.9/site-packages/arviz/stats/stats.py:694: UserWarning: Estimated shape parameter of Pareto distribution is greater than 0.7 for one or more samples. You should consider using a more robust model, this is because importance sampling is less likely to work well if the marginal posterior and LOO posterior are very different. This is more likely to happen with a non-robust model and highly influential observations.\n",
      "  warnings.warn(\n",
      "/home/nachshon/anaconda3/envs/reversal/lib/python3.9/site-packages/arviz/stats/stats.py:694: UserWarning: Estimated shape parameter of Pareto distribution is greater than 0.7 for one or more samples. You should consider using a more robust model, this is because importance sampling is less likely to work well if the marginal posterior and LOO posterior are very different. This is more likely to happen with a non-robust model and highly influential observations.\n",
      "  warnings.warn(\n",
      "/home/nachshon/anaconda3/envs/reversal/lib/python3.9/site-packages/arviz/stats/stats.py:694: UserWarning: Estimated shape parameter of Pareto distribution is greater than 0.7 for one or more samples. You should consider using a more robust model, this is because importance sampling is less likely to work well if the marginal posterior and LOO posterior are very different. This is more likely to happen with a non-robust model and highly influential observations.\n",
      "  warnings.warn(\n",
      "/home/nachshon/anaconda3/envs/reversal/lib/python3.9/site-packages/arviz/stats/stats.py:694: UserWarning: Estimated shape parameter of Pareto distribution is greater than 0.7 for one or more samples. You should consider using a more robust model, this is because importance sampling is less likely to work well if the marginal posterior and LOO posterior are very different. This is more likely to happen with a non-robust model and highly influential observations.\n",
      "  warnings.warn(\n",
      "/home/nachshon/anaconda3/envs/reversal/lib/python3.9/site-packages/arviz/stats/stats.py:694: UserWarning: Estimated shape parameter of Pareto distribution is greater than 0.7 for one or more samples. You should consider using a more robust model, this is because importance sampling is less likely to work well if the marginal posterior and LOO posterior are very different. This is more likely to happen with a non-robust model and highly influential observations.\n",
      "  warnings.warn(\n"
     ]
    },
    {
     "data": {
      "text/html": [
       "<div>\n",
       "<style scoped>\n",
       "    .dataframe tbody tr th:only-of-type {\n",
       "        vertical-align: middle;\n",
       "    }\n",
       "\n",
       "    .dataframe tbody tr th {\n",
       "        vertical-align: top;\n",
       "    }\n",
       "\n",
       "    .dataframe thead th {\n",
       "        text-align: right;\n",
       "    }\n",
       "</style>\n",
       "<table border=\"1\" class=\"dataframe\">\n",
       "  <thead>\n",
       "    <tr style=\"text-align: right;\">\n",
       "      <th></th>\n",
       "      <th>rank</th>\n",
       "      <th>loo</th>\n",
       "      <th>p_loo</th>\n",
       "      <th>d_loo</th>\n",
       "      <th>weight</th>\n",
       "      <th>se</th>\n",
       "      <th>dse</th>\n",
       "      <th>warning</th>\n",
       "      <th>loo_scale</th>\n",
       "    </tr>\n",
       "  </thead>\n",
       "  <tbody>\n",
       "    <tr>\n",
       "      <th>RW valence halves age</th>\n",
       "      <td>0</td>\n",
       "      <td>-495.239646</td>\n",
       "      <td>181.385978</td>\n",
       "      <td>0.000000</td>\n",
       "      <td>5.190995e-01</td>\n",
       "      <td>42.426437</td>\n",
       "      <td>0.000000</td>\n",
       "      <td>True</td>\n",
       "      <td>log</td>\n",
       "    </tr>\n",
       "    <tr>\n",
       "      <th>RW halves age</th>\n",
       "      <td>1</td>\n",
       "      <td>-500.069867</td>\n",
       "      <td>153.255492</td>\n",
       "      <td>4.830221</td>\n",
       "      <td>4.558511e-01</td>\n",
       "      <td>42.134383</td>\n",
       "      <td>11.678149</td>\n",
       "      <td>False</td>\n",
       "      <td>log</td>\n",
       "    </tr>\n",
       "    <tr>\n",
       "      <th>RW valence age</th>\n",
       "      <td>2</td>\n",
       "      <td>-523.059417</td>\n",
       "      <td>149.543599</td>\n",
       "      <td>27.819771</td>\n",
       "      <td>2.504947e-02</td>\n",
       "      <td>41.447206</td>\n",
       "      <td>9.702438</td>\n",
       "      <td>True</td>\n",
       "      <td>log</td>\n",
       "    </tr>\n",
       "    <tr>\n",
       "      <th>RW age</th>\n",
       "      <td>3</td>\n",
       "      <td>-586.568625</td>\n",
       "      <td>105.704994</td>\n",
       "      <td>91.328978</td>\n",
       "      <td>2.794875e-12</td>\n",
       "      <td>39.859164</td>\n",
       "      <td>13.987391</td>\n",
       "      <td>True</td>\n",
       "      <td>log</td>\n",
       "    </tr>\n",
       "  </tbody>\n",
       "</table>\n",
       "</div>"
      ],
      "text/plain": [
       "                       rank         loo       p_loo      d_loo        weight  \\\n",
       "RW valence halves age     0 -495.239646  181.385978   0.000000  5.190995e-01   \n",
       "RW halves age             1 -500.069867  153.255492   4.830221  4.558511e-01   \n",
       "RW valence age            2 -523.059417  149.543599  27.819771  2.504947e-02   \n",
       "RW age                    3 -586.568625  105.704994  91.328978  2.794875e-12   \n",
       "\n",
       "                              se        dse  warning loo_scale  \n",
       "RW valence halves age  42.426437   0.000000     True       log  \n",
       "RW halves age          42.134383  11.678149    False       log  \n",
       "RW valence age         41.447206   9.702438     True       log  \n",
       "RW age                 39.859164  13.987391     True       log  "
      ]
     },
     "execution_count": 19,
     "metadata": {},
     "output_type": "execute_result"
    }
   ],
   "source": [
    "models = {'RW age': trace_RW_age, \n",
    "          'RW valence age': trace_RW_valence_age,\n",
    "          'RW halves age': trace_RW_halves_age,\n",
    "          'RW valence halves age': trace_RW_valence_halves_age}\n",
    "\n",
    "comp = az.compare(models)\n",
    "az.compare(models, ic='loo')"
   ]
  },
  {
   "cell_type": "code",
   "execution_count": 9,
   "id": "b3eab39c",
   "metadata": {},
   "outputs": [
    {
     "data": {
      "text/html": [
       "<div>\n",
       "<style scoped>\n",
       "    .dataframe tbody tr th:only-of-type {\n",
       "        vertical-align: middle;\n",
       "    }\n",
       "\n",
       "    .dataframe tbody tr th {\n",
       "        vertical-align: top;\n",
       "    }\n",
       "\n",
       "    .dataframe thead th {\n",
       "        text-align: right;\n",
       "    }\n",
       "</style>\n",
       "<table border=\"1\" class=\"dataframe\">\n",
       "  <thead>\n",
       "    <tr style=\"text-align: right;\">\n",
       "      <th></th>\n",
       "      <th>mean</th>\n",
       "      <th>sd</th>\n",
       "      <th>hdi_3%</th>\n",
       "      <th>hdi_97%</th>\n",
       "      <th>mcse_mean</th>\n",
       "      <th>mcse_sd</th>\n",
       "      <th>ess_bulk</th>\n",
       "      <th>ess_tail</th>\n",
       "      <th>r_hat</th>\n",
       "    </tr>\n",
       "  </thead>\n",
       "  <tbody>\n",
       "    <tr>\n",
       "      <th>Age1p</th>\n",
       "      <td>-0.281</td>\n",
       "      <td>0.051</td>\n",
       "      <td>-0.377</td>\n",
       "      <td>-0.190</td>\n",
       "      <td>0.002</td>\n",
       "      <td>0.001</td>\n",
       "      <td>1039.0</td>\n",
       "      <td>1797.0</td>\n",
       "      <td>1.00</td>\n",
       "    </tr>\n",
       "    <tr>\n",
       "      <th>Age1n</th>\n",
       "      <td>-0.159</td>\n",
       "      <td>0.065</td>\n",
       "      <td>-0.286</td>\n",
       "      <td>-0.061</td>\n",
       "      <td>0.003</td>\n",
       "      <td>0.002</td>\n",
       "      <td>478.0</td>\n",
       "      <td>1076.0</td>\n",
       "      <td>1.01</td>\n",
       "    </tr>\n",
       "    <tr>\n",
       "      <th>Age2p</th>\n",
       "      <td>-0.333</td>\n",
       "      <td>0.074</td>\n",
       "      <td>-0.470</td>\n",
       "      <td>-0.194</td>\n",
       "      <td>0.002</td>\n",
       "      <td>0.002</td>\n",
       "      <td>1235.0</td>\n",
       "      <td>2480.0</td>\n",
       "      <td>1.00</td>\n",
       "    </tr>\n",
       "    <tr>\n",
       "      <th>Age2n</th>\n",
       "      <td>-0.100</td>\n",
       "      <td>0.036</td>\n",
       "      <td>-0.170</td>\n",
       "      <td>-0.038</td>\n",
       "      <td>0.001</td>\n",
       "      <td>0.001</td>\n",
       "      <td>976.0</td>\n",
       "      <td>1007.0</td>\n",
       "      <td>1.00</td>\n",
       "    </tr>\n",
       "  </tbody>\n",
       "</table>\n",
       "</div>"
      ],
      "text/plain": [
       "        mean     sd  hdi_3%  hdi_97%  mcse_mean  mcse_sd  ess_bulk  ess_tail  \\\n",
       "Age1p -0.281  0.051  -0.377   -0.190      0.002    0.001    1039.0    1797.0   \n",
       "Age1n -0.159  0.065  -0.286   -0.061      0.003    0.002     478.0    1076.0   \n",
       "Age2p -0.333  0.074  -0.470   -0.194      0.002    0.002    1235.0    2480.0   \n",
       "Age2n -0.100  0.036  -0.170   -0.038      0.001    0.001     976.0    1007.0   \n",
       "\n",
       "       r_hat  \n",
       "Age1p   1.00  \n",
       "Age1n   1.01  \n",
       "Age2p   1.00  \n",
       "Age2n   1.00  "
      ]
     },
     "execution_count": 9,
     "metadata": {},
     "output_type": "execute_result"
    }
   ],
   "source": [
    "az.summary(trace_RW_valence_halves_age, var_names=['Age1p', 'Age1n', 'Age2p', 'Age2n'])"
   ]
  }
 ],
 "metadata": {
  "kernelspec": {
   "display_name": "Python 3 (ipykernel)",
   "language": "python",
   "name": "python3"
  },
  "language_info": {
   "codemirror_mode": {
    "name": "ipython",
    "version": 3
   },
   "file_extension": ".py",
   "mimetype": "text/x-python",
   "name": "python",
   "nbconvert_exporter": "python",
   "pygments_lexer": "ipython3",
   "version": "3.9.12"
  }
 },
 "nbformat": 4,
 "nbformat_minor": 5
}
