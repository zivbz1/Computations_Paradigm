{
 "cells": [
  {
   "cell_type": "markdown",
   "metadata": {},
   "source": [
    "# Organize_Learning_Data\n",
    "\n",
    "### This script takes raw JSON data from the learning phase of the paradigm and organizes it for all participants and all trials.\n",
    "\n",
    "#### Created by: Ziv Ben-Zion \n",
    "#### Last Updated: May 2023\n"
   ]
  },
  {
   "cell_type": "code",
   "execution_count": 1,
   "metadata": {},
   "outputs": [],
   "source": [
    "#importing packages\n",
    "\n",
    "import pandas as pd\n",
    "import json\n",
    "from glob import glob\n",
    "import matplotlib.pyplot as plt\n",
    "import seaborn as sns\n",
    "import warnings\n",
    "import math\n",
    "import os\n",
    "warnings.filterwarnings('ignore')\n",
    "import numpy as np"
   ]
  },
  {
   "cell_type": "code",
   "execution_count": 2,
   "metadata": {},
   "outputs": [],
   "source": [
    "#find the folders all of the subjects and creat a list of them\n",
    "sublist = glob('C:\\\\Users\\\\zhb4\\\\Box Sync\\\\Neural Computations\\\\Online Pilot\\\\Raw Data\\\\study_result_*')"
   ]
  },
  {
   "cell_type": "code",
   "execution_count": 3,
   "metadata": {},
   "outputs": [],
   "source": [
    "#This is a function used to extract a single subject data based on its JSON file (res) and subject number (sub)\n",
    "def extract_sub_data(res, sub): \n",
    "    '''\n",
    "    Input: \n",
    "    res- data extracted from JSON for a single subject\n",
    "    sub- string representing the subject number\n",
    "    Outupt:\n",
    "    df- pandas DataFrame containing the extracted data.\n",
    "    '''   \n",
    "    # creating an empty dataframe\n",
    "    df = pd.DataFrame()\n",
    "    if int(sub) < 150:\n",
    "        cohort = 1\n",
    "    else:\n",
    "        cohort = 2\n",
    "    # The function loops through each trial in the JSON data file (res) and extracts relevant pieces of information, \n",
    "    # including the mean value of the stimulus and its actual value in that trial\n",
    "    for i in range(len(res)):\n",
    "        time = res[i]['time'] #time in Unix timestamp\n",
    "        mean_stim = res[i]['cues'][0]['reward_mean'] #mean value of stimulus\n",
    "        actual_stim = res[i]['cues'][0]['reward'] #actual value of stimulus in this trial\n",
    "\n",
    "    # Determine if the trial has a reward or punishment based on the sign of the mean stimulus value\n",
    "        if mean_stim > 0:\n",
    "            trial_type = 'reward'\n",
    "        else:\n",
    "            trial_type = 'punishment'\n",
    "            \n",
    "    #  In trials without input we define the rating and their reaction times as NaN (Not a Number)        \n",
    "        if res[i]['cues'][0]['takingInput']==False:\n",
    "            val, conf, RT_val, RT_conf = np.NaN, np.NaN, np.NaN, np.NaN\n",
    "    #  In trials with input, we also extract participants' value & confidence ratings for the stimulus (val, conf) \n",
    "    #  and their reaction times (RT_val,RT_conf) \n",
    "        else:\n",
    "            val = ((res[i]['cues'][0]['input']['rewardLikely_UI'])-10)*10\n",
    "            conf = res[i]['cues'][0]['input']['confidence_UI']\n",
    "            RT_val = res[i]['cues'][0]['input']['rewardLikely_UI_rt']\n",
    "            RT_conf = res[i]['cues'][0]['input']['confidence_UI_rt']\n",
    "\n",
    "    # For each trial, the function creates a dictionary with the extracted information and creates a temporary DataFrame. \n",
    "    # These temporary DataFrames are concatenated together to create the final DataFrame with all the trials of a single subject.\n",
    "        trial = {'sub': sub, 'cohort': cohort, 'time':time, 'trial': i+1, 'trial_type': trial_type, 'mean_stim': mean_stim, \n",
    "                 'actual_stim': actual_stim,'val': val, 'RT_val': RT_val, 'conf': conf, 'RT_conf': RT_conf}\n",
    "        temp = pd.DataFrame(trial, index=[0])\n",
    "        df = pd.concat([df, temp])\n",
    "        df = df.reset_index(drop=True)\n",
    "        \n",
    "    df.head()\n",
    "    return df"
   ]
  },
  {
   "cell_type": "code",
   "execution_count": 4,
   "metadata": {},
   "outputs": [],
   "source": [
    "#Here we use the function extract_sub_data to extract a single subject dataframe based on its JSON file and subject number\n",
    "df = pd.DataFrame()\n",
    "\n",
    "for folder_path in sublist: \n",
    "    # Specify the subject number\n",
    "    sub = folder_path.split(\"_\")[-1]\n",
    "    # Get the list of items in the subject folder\n",
    "    items = os.listdir(folder_path)\n",
    "    # Filter folders from the list\n",
    "    folders = [item for item in items if os.path.isdir(os.path.join(folder_path, item))]\n",
    "    # Check if there are exactly 13 folders\n",
    "    if len(folders) == 13:\n",
    "        # If so, sort folders alphabetically\n",
    "        sorted_folders = sorted(folders, key=lambda x: int(x.split('_')[1]))\n",
    "        # Retrieve the name of the 6th and 7th folders - learning block #1 and learning block #2\n",
    "        learning1_folder = sorted_folders[5]\n",
    "        learning2_folder = sorted_folders[6]\n",
    "        # Update the folder_path with the names of the 6th and 7th folder\n",
    "        folder_path_learning1 = os.path.join(folder_path, learning1_folder)\n",
    "        folder_path_learning2 = os.path.join(folder_path, learning2_folder)\n",
    "        \n",
    "        # Extract data for learning block #1\n",
    "        data_file_path_learning1 = os.path.join(folder_path_learning1, \"data.txt\")\n",
    "        with open(data_file_path_learning1, \"r\") as file:\n",
    "            res_learning1 = file.read()\n",
    "            res_learning1 = json.loads(res_learning1)[1]['data']\n",
    "            temp_learning1 = extract_sub_data(res_learning1, sub)\n",
    "        \n",
    "        # Extract data for learning block #2\n",
    "        data_file_path_learning2 = os.path.join(folder_path_learning2, \"data.txt\")\n",
    "        with open(data_file_path_learning2, \"r\") as file:\n",
    "            res_learning2 = file.read()\n",
    "            res_learning2 = json.loads(res_learning2)[1]['data']\n",
    "            temp_learning2 = extract_sub_data(res_learning2, sub)\n",
    "            \n",
    "        # Concatenate the data for both learning blocks\n",
    "        temp_combined = pd.concat([temp_learning1, temp_learning2])\n",
    "            \n",
    "        #Save the data for one subject and continue to the next \n",
    "        df = pd.concat([df,temp_combined])\n",
    "        \n",
    "#Now df contains the learning data for all subjects        \n",
    "df = df.reset_index(drop=True)\n",
    "\n",
    "#Save as a csv file\n",
    "df.to_csv('Learning_Data_40.csv', index=False)"
   ]
  },
  {
   "cell_type": "code",
   "execution_count": 5,
   "metadata": {},
   "outputs": [
    {
     "data": {
      "text/html": [
       "<div>\n",
       "<style scoped>\n",
       "    .dataframe tbody tr th:only-of-type {\n",
       "        vertical-align: middle;\n",
       "    }\n",
       "\n",
       "    .dataframe tbody tr th {\n",
       "        vertical-align: top;\n",
       "    }\n",
       "\n",
       "    .dataframe thead th {\n",
       "        text-align: right;\n",
       "    }\n",
       "</style>\n",
       "<table border=\"1\" class=\"dataframe\">\n",
       "  <thead>\n",
       "    <tr style=\"text-align: right;\">\n",
       "      <th></th>\n",
       "      <th>sub</th>\n",
       "      <th>cohort</th>\n",
       "      <th>time</th>\n",
       "      <th>trial</th>\n",
       "      <th>trial_type</th>\n",
       "      <th>mean_stim</th>\n",
       "      <th>actual_stim</th>\n",
       "      <th>val</th>\n",
       "      <th>RT_val</th>\n",
       "      <th>conf</th>\n",
       "      <th>RT_conf</th>\n",
       "    </tr>\n",
       "  </thead>\n",
       "  <tbody>\n",
       "    <tr>\n",
       "      <th>0</th>\n",
       "      <td>100</td>\n",
       "      <td>1</td>\n",
       "      <td>1678836260121</td>\n",
       "      <td>1</td>\n",
       "      <td>reward</td>\n",
       "      <td>20</td>\n",
       "      <td>40</td>\n",
       "      <td>NaN</td>\n",
       "      <td>NaN</td>\n",
       "      <td>NaN</td>\n",
       "      <td>NaN</td>\n",
       "    </tr>\n",
       "    <tr>\n",
       "      <th>1</th>\n",
       "      <td>100</td>\n",
       "      <td>1</td>\n",
       "      <td>1678836263946</td>\n",
       "      <td>2</td>\n",
       "      <td>reward</td>\n",
       "      <td>50</td>\n",
       "      <td>50</td>\n",
       "      <td>NaN</td>\n",
       "      <td>NaN</td>\n",
       "      <td>NaN</td>\n",
       "      <td>NaN</td>\n",
       "    </tr>\n",
       "    <tr>\n",
       "      <th>2</th>\n",
       "      <td>100</td>\n",
       "      <td>1</td>\n",
       "      <td>1678836274896</td>\n",
       "      <td>3</td>\n",
       "      <td>reward</td>\n",
       "      <td>80</td>\n",
       "      <td>80</td>\n",
       "      <td>NaN</td>\n",
       "      <td>NaN</td>\n",
       "      <td>NaN</td>\n",
       "      <td>NaN</td>\n",
       "    </tr>\n",
       "    <tr>\n",
       "      <th>3</th>\n",
       "      <td>100</td>\n",
       "      <td>1</td>\n",
       "      <td>1678836277905</td>\n",
       "      <td>4</td>\n",
       "      <td>reward</td>\n",
       "      <td>50</td>\n",
       "      <td>50</td>\n",
       "      <td>80.0</td>\n",
       "      <td>7.463</td>\n",
       "      <td>7.0</td>\n",
       "      <td>1.172</td>\n",
       "    </tr>\n",
       "    <tr>\n",
       "      <th>4</th>\n",
       "      <td>100</td>\n",
       "      <td>1</td>\n",
       "      <td>1678836288842</td>\n",
       "      <td>5</td>\n",
       "      <td>reward</td>\n",
       "      <td>20</td>\n",
       "      <td>20</td>\n",
       "      <td>50.0</td>\n",
       "      <td>4.987</td>\n",
       "      <td>5.0</td>\n",
       "      <td>1.488</td>\n",
       "    </tr>\n",
       "  </tbody>\n",
       "</table>\n",
       "</div>"
      ],
      "text/plain": [
       "   sub  cohort           time  trial trial_type  mean_stim  actual_stim   val  \\\n",
       "0  100       1  1678836260121      1     reward         20           40   NaN   \n",
       "1  100       1  1678836263946      2     reward         50           50   NaN   \n",
       "2  100       1  1678836274896      3     reward         80           80   NaN   \n",
       "3  100       1  1678836277905      4     reward         50           50  80.0   \n",
       "4  100       1  1678836288842      5     reward         20           20  50.0   \n",
       "\n",
       "   RT_val  conf  RT_conf  \n",
       "0     NaN   NaN      NaN  \n",
       "1     NaN   NaN      NaN  \n",
       "2     NaN   NaN      NaN  \n",
       "3   7.463   7.0    1.172  \n",
       "4   4.987   5.0    1.488  "
      ]
     },
     "execution_count": 5,
     "metadata": {},
     "output_type": "execute_result"
    }
   ],
   "source": [
    "df.head()"
   ]
  },
  {
   "cell_type": "code",
   "execution_count": 84,
   "metadata": {},
   "outputs": [
    {
     "data": {
      "text/html": [
       "<div>\n",
       "<style scoped>\n",
       "    .dataframe tbody tr th:only-of-type {\n",
       "        vertical-align: middle;\n",
       "    }\n",
       "\n",
       "    .dataframe tbody tr th {\n",
       "        vertical-align: top;\n",
       "    }\n",
       "\n",
       "    .dataframe thead th {\n",
       "        text-align: right;\n",
       "    }\n",
       "</style>\n",
       "<table border=\"1\" class=\"dataframe\">\n",
       "  <thead>\n",
       "    <tr style=\"text-align: right;\">\n",
       "      <th></th>\n",
       "      <th>sub</th>\n",
       "      <th>trial_type</th>\n",
       "      <th>RT_val</th>\n",
       "      <th>RT_conf</th>\n",
       "      <th>mean_stim</th>\n",
       "      <th>GAD</th>\n",
       "    </tr>\n",
       "  </thead>\n",
       "  <tbody>\n",
       "    <tr>\n",
       "      <th>0</th>\n",
       "      <td>100</td>\n",
       "      <td>punishment</td>\n",
       "      <td>2.7122</td>\n",
       "      <td>1.4674</td>\n",
       "      <td>-80</td>\n",
       "      <td>12</td>\n",
       "    </tr>\n",
       "    <tr>\n",
       "      <th>1</th>\n",
       "      <td>100</td>\n",
       "      <td>punishment</td>\n",
       "      <td>3.3191</td>\n",
       "      <td>1.3298</td>\n",
       "      <td>-50</td>\n",
       "      <td>12</td>\n",
       "    </tr>\n",
       "    <tr>\n",
       "      <th>2</th>\n",
       "      <td>100</td>\n",
       "      <td>punishment</td>\n",
       "      <td>2.4436</td>\n",
       "      <td>1.2191</td>\n",
       "      <td>-20</td>\n",
       "      <td>12</td>\n",
       "    </tr>\n",
       "    <tr>\n",
       "      <th>3</th>\n",
       "      <td>100</td>\n",
       "      <td>reward</td>\n",
       "      <td>2.8570</td>\n",
       "      <td>1.8568</td>\n",
       "      <td>20</td>\n",
       "      <td>12</td>\n",
       "    </tr>\n",
       "    <tr>\n",
       "      <th>4</th>\n",
       "      <td>100</td>\n",
       "      <td>reward</td>\n",
       "      <td>3.1999</td>\n",
       "      <td>1.4508</td>\n",
       "      <td>50</td>\n",
       "      <td>12</td>\n",
       "    </tr>\n",
       "  </tbody>\n",
       "</table>\n",
       "</div>"
      ],
      "text/plain": [
       "   sub  trial_type  RT_val  RT_conf  mean_stim  GAD\n",
       "0  100  punishment  2.7122   1.4674        -80   12\n",
       "1  100  punishment  3.3191   1.3298        -50   12\n",
       "2  100  punishment  2.4436   1.2191        -20   12\n",
       "3  100      reward  2.8570   1.8568         20   12\n",
       "4  100      reward  3.1999   1.4508         50   12"
      ]
     },
     "execution_count": 84,
     "metadata": {},
     "output_type": "execute_result"
    }
   ],
   "source": [
    "anx = pd.read_csv('Anxiety.csv')\n",
    "df_rt['sub'] = df_rt['sub'].astype('int64')\n",
    "df_corr = df_rt.merge(anx, left_on='sub', right_on='sub')\n",
    "df_corr.head()"
   ]
  },
  {
   "cell_type": "code",
   "execution_count": 85,
   "metadata": {},
   "outputs": [
    {
     "data": {
      "text/plain": [
       "<AxesSubplot:xlabel='GAD', ylabel='RT_conf'>"
      ]
     },
     "execution_count": 85,
     "metadata": {},
     "output_type": "execute_result"
    },
    {
     "data": {
      "image/png": "[encoded data removed]",
      "text/plain": [
       "<Figure size 432x288 with 1 Axes>"
      ]
     },
     "metadata": {
      "needs_background": "light"
     },
     "output_type": "display_data"
    }
   ],
   "source": [
    "sns.scatterplot(data=df_corr[df_corr['trial_type']=='punishment'], x='GAD', y='RT_conf')"
   ]
  },
  {
   "cell_type": "code",
   "execution_count": 89,
   "metadata": {},
   "outputs": [
    {
     "data": {
      "text/plain": [
       "<AxesSubplot:xlabel='GAD', ylabel='RT_conf'>"
      ]
     },
     "execution_count": 89,
     "metadata": {},
     "output_type": "execute_result"
    },
    {
     "data": {
      "image/png": "[encoded data removed]",
      "text/plain": [
       "<Figure size 432x288 with 1 Axes>"
      ]
     },
     "metadata": {
      "needs_background": "light"
     },
     "output_type": "display_data"
    }
   ],
   "source": [
    "sns.scatterplot(data=df_corr[df_corr['trial_type']=='reward'], x='GAD', y='RT_conf')"
   ]
  },
  {
   "cell_type": "code",
   "execution_count": 87,
   "metadata": {},
   "outputs": [
    {
     "data": {
      "text/plain": [
       "<AxesSubplot:xlabel='GAD', ylabel='RT_val'>"
      ]
     },
     "execution_count": 87,
     "metadata": {},
     "output_type": "execute_result"
    },
    {
     "data": {
      "image/png": "[encoded data removed]",
      "text/plain": [
       "<Figure size 432x288 with 1 Axes>"
      ]
     },
     "metadata": {
      "needs_background": "light"
     },
     "output_type": "display_data"
    }
   ],
   "source": [
    "#average reaction time for value ranking as a function of anxiety\n",
    "sns.scatterplot(data=df_corr[df_corr['trial_type']=='punishment'], x='GAD', y='RT_val')"
   ]
  },
  {
   "cell_type": "code",
   "execution_count": 88,
   "metadata": {},
   "outputs": [
    {
     "data": {
      "text/plain": [
       "<AxesSubplot:xlabel='GAD', ylabel='RT_val'>"
      ]
     },
     "execution_count": 88,
     "metadata": {},
     "output_type": "execute_result"
    },
    {
     "data": {
      "image/png": "[encoded data removed]",
      "text/plain": [
       "<Figure size 432x288 with 1 Axes>"
      ]
     },
     "metadata": {
      "needs_background": "light"
     },
     "output_type": "display_data"
    }
   ],
   "source": [
    "#average reaction time for value ranking as a function of anxiety\n",
    "sns.scatterplot(data=df_corr[df_corr['trial_type']=='reward'], x='GAD', y='RT_val')"
   ]
  },
  {
   "cell_type": "code",
   "execution_count": null,
   "metadata": {},
   "outputs": [],
   "source": [
    "#average reaction time for value ranking by type of stimuli as a function of anxiety\n",
    "sns.scatterplot(data=df_corr[df_corr['trial_type']=='punishment'], x='GAD', y='RT_val', hue='mean_stim')\n"
   ]
  },
  {
   "cell_type": "code",
   "execution_count": 63,
   "metadata": {},
   "outputs": [
    {
     "data": {
      "text/plain": [
       "<AxesSubplot:xlabel='GAD', ylabel='RT_val'>"
      ]
     },
     "execution_count": 63,
     "metadata": {},
     "output_type": "execute_result"
    },
    {
     "data": {
      "image/png": "[encoded data removed]",
      "text/plain": [
       "<Figure size 432x288 with 1 Axes>"
      ]
     },
     "metadata": {
      "needs_background": "light"
     },
     "output_type": "display_data"
    }
   ],
   "source": [
    "sns.scatterplot(data=df_corr[df_corr['trial_type']=='reward'], x='GAD', y='RT_val',hue='mean_stim')"
   ]
  },
  {
   "cell_type": "code",
   "execution_count": 90,
   "metadata": {},
   "outputs": [
    {
     "data": {
      "text/plain": [
       "<AxesSubplot:xlabel='RT_val', ylabel='RT_val'>"
      ]
     },
     "execution_count": 90,
     "metadata": {},
     "output_type": "execute_result"
    },
    {
     "data": {
      "image/png": "[encoded data removed]",
      "text/plain": [
       "<Figure size 432x288 with 1 Axes>"
      ]
     },
     "metadata": {
      "needs_background": "light"
     },
     "output_type": "display_data"
    }
   ],
   "source": [
    "sns.regplot(x=df_corr[df_corr['trial_type']=='punishment']['RT_val'], y=df_corr[df_corr['trial_type']=='reward']['RT_val'])"
   ]
  },
  {
   "cell_type": "code",
   "execution_count": null,
   "metadata": {},
   "outputs": [],
   "source": []
  }
 ],
 "metadata": {
  "kernelspec": {
   "display_name": "Python 3 (ipykernel)",
   "language": "python",
   "name": "python3"
  },
  "language_info": {
   "codemirror_mode": {
    "name": "ipython",
    "version": 3
   },
   "file_extension": ".py",
   "mimetype": "text/x-python",
   "name": "python",
   "nbconvert_exporter": "python",
   "pygments_lexer": "ipython3",
   "version": "3.9.12"
  }
 },
 "nbformat": 4,
 "nbformat_minor": 4
}
